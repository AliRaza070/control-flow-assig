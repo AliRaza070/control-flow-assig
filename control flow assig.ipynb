{
 "cells": [
  {
   "cell_type": "code",
   "execution_count": null,
   "id": "eb6ac9cb-7b8d-4924-b028-8c7720447d1c",
   "metadata": {},
   "outputs": [],
   "source": [
    "Basic If-Else Statements:"
   ]
  },
  {
   "cell_type": "code",
   "execution_count": null,
   "id": "13e84ff8-0aa3-4a07-905a-ecb81d9ff8c2",
   "metadata": {},
   "outputs": [],
   "source": []
  },
  {
   "cell_type": "code",
   "execution_count": null,
   "id": "745ad384-219c-4b38-8452-4700cd686f3a",
   "metadata": {},
   "outputs": [],
   "source": [
    "1. Write a Python program to check if a given number is positive or negative."
   ]
  },
  {
   "cell_type": "code",
   "execution_count": 1,
   "id": "9ecd6c23-74cb-43db-915b-4e01fca492dc",
   "metadata": {},
   "outputs": [
    {
     "name": "stdout",
     "output_type": "stream",
     "text": [
      "Number is positive\n"
     ]
    }
   ],
   "source": [
    "num=8\n",
    "if num<0:\n",
    "    print(\"Number is negitive\")\n",
    "else:\n",
    "    print(\"Number is positive\")"
   ]
  },
  {
   "cell_type": "code",
   "execution_count": null,
   "id": "c7a73851-d5b1-4d73-bff7-f7e0d1653b9f",
   "metadata": {},
   "outputs": [],
   "source": [
    "2. Create a program that determines if a person is eligible to vote based on their age."
   ]
  },
  {
   "cell_type": "code",
   "execution_count": 7,
   "id": "479c1c62-08e7-4a61-8dc9-d4b11f81463b",
   "metadata": {},
   "outputs": [
    {
     "name": "stdin",
     "output_type": "stream",
     "text": [
      "Enter your age 23\n"
     ]
    },
    {
     "name": "stdout",
     "output_type": "stream",
     "text": [
      "you are eligible to cast a vote\n"
     ]
    }
   ],
   "source": [
    "age=int(input(\"Enter your age\"))\n",
    "if age <= 18:\n",
    "    print(\"you are not eligible to cast a vote\")\n",
    "else:\n",
    "    print(\"you are eligible to cast a vote\")"
   ]
  },
  {
   "cell_type": "code",
   "execution_count": null,
   "id": "a68da9d9-4c28-4724-a236-7d847f6fc9ad",
   "metadata": {},
   "outputs": [],
   "source": [
    "3. Develop a program to find the maximum of two numbers using if-else statements."
   ]
  },
  {
   "cell_type": "code",
   "execution_count": 8,
   "id": "e3939f94-9d9c-4d72-a605-325d86557b03",
   "metadata": {},
   "outputs": [
    {
     "name": "stdout",
     "output_type": "stream",
     "text": [
      "32 is maximum\n"
     ]
    }
   ],
   "source": [
    "a=10\n",
    "b=32\n",
    "if a>b:\n",
    "    print(a,\" is maximun\")\n",
    "else:\n",
    "    print(b,\"is maximum\")"
   ]
  },
  {
   "cell_type": "code",
   "execution_count": null,
   "id": "c940b871-ea42-4290-9fa2-311ffd27f1ee",
   "metadata": {},
   "outputs": [],
   "source": [
    "4. Write a Python script to classify a given year as a leap year or not."
   ]
  },
  {
   "cell_type": "code",
   "execution_count": 15,
   "id": "6d76e5b8-9206-429f-81ee-e392886d97b9",
   "metadata": {},
   "outputs": [
    {
     "name": "stdin",
     "output_type": "stream",
     "text": [
      "Enter year to check leap or not 2023\n"
     ]
    },
    {
     "name": "stdout",
     "output_type": "stream",
     "text": [
      "2023  is not a leap year\n"
     ]
    }
   ],
   "source": [
    "year=int(input(\"Enter year to check leap or not\"))\n",
    "if (year % 4 == 0 and year % 100 != 0) or (year % 400 == 0):\n",
    "    print(year,\" is a leap year\")\n",
    "else:\n",
    "    print(year,\" is not a leap year\")"
   ]
  },
  {
   "cell_type": "code",
   "execution_count": null,
   "id": "ea9d8a25-2904-4fff-b3f3-5f3515f49f85",
   "metadata": {},
   "outputs": [],
   "source": [
    "5. Create a program that checks whether a character is a vowel or a consonant."
   ]
  },
  {
   "cell_type": "code",
   "execution_count": 16,
   "id": "fb26ce9e-58a7-41f0-bf6d-c30ee961640b",
   "metadata": {},
   "outputs": [
    {
     "name": "stdout",
     "output_type": "stream",
     "text": [
      "charcater is a consonant\n"
     ]
    }
   ],
   "source": [
    "s=\"d\"\n",
    "if s in \"aeiouAEIOU\":\n",
    "    print(\"charcater is a consonant\")\n",
    "else:\n",
    "    print(\"charcater is a consonant\")"
   ]
  },
  {
   "cell_type": "code",
   "execution_count": null,
   "id": "39bcded7-f9cf-43df-82c3-117c5a7983df",
   "metadata": {},
   "outputs": [],
   "source": [
    "6. Implement a program to determine whether a given number is even or odd."
   ]
  },
  {
   "cell_type": "code",
   "execution_count": 18,
   "id": "132ec9eb-101e-41a4-a5ec-3c4c395ae35b",
   "metadata": {},
   "outputs": [
    {
     "name": "stdin",
     "output_type": "stream",
     "text": [
      "Enter a number to check it even or odd 23\n"
     ]
    },
    {
     "name": "stdout",
     "output_type": "stream",
     "text": [
      "23 numner is odd\n"
     ]
    }
   ],
   "source": [
    "num=int(input(\"Enter a number to check it even or odd\"))\n",
    "if num%2==0:\n",
    "    print(num,\"number is even\")\n",
    "else:\n",
    "    print(num,\"numner is odd\")"
   ]
  },
  {
   "cell_type": "code",
   "execution_count": null,
   "id": "bb4f0b36-567b-4328-8e3a-2f230a65c7cd",
   "metadata": {},
   "outputs": [],
   "source": [
    "7. Write a Python function to calculate the absolute value of a number without using the `abs()` function."
   ]
  },
  {
   "cell_type": "code",
   "execution_count": 22,
   "id": "99a1d879-c15b-4e72-910d-a30e856c00a1",
   "metadata": {},
   "outputs": [
    {
     "name": "stdin",
     "output_type": "stream",
     "text": [
      "Enter a number  -3\n"
     ]
    },
    {
     "name": "stdout",
     "output_type": "stream",
     "text": [
      "absolute value of a number-3 is 3\n"
     ]
    }
   ],
   "source": [
    "num=int(input(\"Enter a number \"))\n",
    "if num >= 0:\n",
    "        print(f\"absolute value of a number{num} is\",num)\n",
    "else:\n",
    "      print(f\"absolute value of a number{num} is\",-num)"
   ]
  },
  {
   "cell_type": "code",
   "execution_count": null,
   "id": "b1044fc1-48bd-492f-8b99-3daffd33470e",
   "metadata": {},
   "outputs": [],
   "source": [
    "8. Develop a program that determines the largest of three given numbers using if-else statements."
   ]
  },
  {
   "cell_type": "code",
   "execution_count": 23,
   "id": "e7a5f6ee-8a1b-4a46-b993-559e5c224f06",
   "metadata": {},
   "outputs": [
    {
     "name": "stdout",
     "output_type": "stream",
     "text": [
      "The largest number among 15, 27, and 10 is: 27\n"
     ]
    }
   ],
   "source": [
    "# Given numbers\n",
    "num1 = 15\n",
    "num2 = 27\n",
    "num3 = 10\n",
    "\n",
    "# Determine the largest number using if-else statements\n",
    "if num1 >= num2 and num1 >= num3:\n",
    "    largest = num1\n",
    "elif num2 >= num1 and num2 >= num3:\n",
    "    largest = num2\n",
    "else:\n",
    "    largest = num3\n",
    "\n",
    "# Print the largest number\n",
    "print(f\"The largest number among {num1}, {num2}, and {num3} is: {largest}\")\n"
   ]
  },
  {
   "cell_type": "code",
   "execution_count": null,
   "id": "aec3faae-fcfd-484b-ae30-2e5fd2263b77",
   "metadata": {},
   "outputs": [],
   "source": [
    "9. Create a program that checks if a given string is a palindrome."
   ]
  },
  {
   "cell_type": "code",
   "execution_count": 24,
   "id": "38f4d8a4-8703-46a2-a0ab-4d8ff9a10a89",
   "metadata": {},
   "outputs": [
    {
     "name": "stdout",
     "output_type": "stream",
     "text": [
      "madam is a palindrome.\n"
     ]
    }
   ],
   "source": [
    "# Given string\n",
    "input_string = \"madam\"\n",
    "\n",
    "# Check if the string is a palindrome\n",
    "if input_string == input_string[::-1]:\n",
    "    print(f\"{input_string} is a palindrome.\")\n",
    "else:\n",
    "    print(f\"{input_string} is not a palindrome.\")"
   ]
  },
  {
   "cell_type": "code",
   "execution_count": null,
   "id": "2b0865a3-5585-47a6-814e-2e70033f33f6",
   "metadata": {},
   "outputs": [],
   "source": [
    "10. Write a Python program to calculate the grade based on a student's score."
   ]
  },
  {
   "cell_type": "code",
   "execution_count": 25,
   "id": "bcc40e59-fa6b-4a3b-96e3-106b997fc9aa",
   "metadata": {},
   "outputs": [
    {
     "name": "stdout",
     "output_type": "stream",
     "text": [
      "For a score of 85, the grade is: B\n"
     ]
    }
   ],
   "source": [
    "# Input score\n",
    "score = 85\n",
    "\n",
    "# Determine grade based on score\n",
    "if score >= 90:\n",
    "    grade = 'A'\n",
    "elif score >= 80:\n",
    "    grade = 'B'\n",
    "elif score >= 70:\n",
    "    grade = 'C'\n",
    "elif score >= 60:\n",
    "    grade = 'D'\n",
    "else:\n",
    "    grade = 'F'\n",
    "\n",
    "# Print the grade\n",
    "print(f\"For a score of {score}, the grade is: {grade}\")\n"
   ]
  },
  {
   "cell_type": "code",
   "execution_count": null,
   "id": "31cfdb52-e75a-42ad-91c4-710fe8b6e0b4",
   "metadata": {},
   "outputs": [],
   "source": [
    "Nested If-Else Statements:"
   ]
  },
  {
   "cell_type": "code",
   "execution_count": null,
   "id": "c9bbc9f3-ddb5-4a81-8e68-8c5a238401d7",
   "metadata": {},
   "outputs": [],
   "source": [
    "11. Write a program to find the largest among three numbers using nested if-else statements."
   ]
  },
  {
   "cell_type": "code",
   "execution_count": 26,
   "id": "7b5578a4-1a42-4be9-82d9-138c7323b90f",
   "metadata": {},
   "outputs": [
    {
     "name": "stdout",
     "output_type": "stream",
     "text": [
      "The largest number among 15, 27, and 10 is: 27\n"
     ]
    }
   ],
   "source": [
    "# Given numbers\n",
    "num1 = 15\n",
    "num2 = 27\n",
    "num3 = 10\n",
    "\n",
    "# Determine the largest number using nested if-else statements\n",
    "if num1 >= num2:\n",
    "    if num1 >= num3:\n",
    "        largest = num1\n",
    "    else:\n",
    "        largest = num3\n",
    "else:\n",
    "    if num2 >= num3:\n",
    "        largest = num2\n",
    "    else:\n",
    "        largest = num3\n",
    "\n",
    "# Print the largest number\n",
    "print(f\"The largest number among {num1}, {num2}, and {num3} is: {largest}\")\n"
   ]
  },
  {
   "cell_type": "code",
   "execution_count": null,
   "id": "e783adff-e1e2-49b7-a3e8-e95fd0764fdd",
   "metadata": {},
   "outputs": [],
   "source": [
    "12. Implement a program to determine if a triangle is equilateral, isosceles, or scalene."
   ]
  },
  {
   "cell_type": "code",
   "execution_count": 27,
   "id": "85f3a6b8-64fc-42d1-be63-78ddf47fe526",
   "metadata": {},
   "outputs": [
    {
     "name": "stdout",
     "output_type": "stream",
     "text": [
      "The triangle with sides 5, 5, and 5 is a Equilateral Triangle.\n"
     ]
    }
   ],
   "source": [
    "# Given side lengths of the triangle\n",
    "side1 = 5\n",
    "side2 = 5\n",
    "side3 = 5\n",
    "\n",
    "# Determine the type of triangle\n",
    "if side1 == side2 == side3:\n",
    "    triangle_type = \"Equilateral Triangle\"\n",
    "elif side1 == side2 or side1 == side3 or side2 == side3:\n",
    "    triangle_type = \"Isosceles Triangle\"\n",
    "else:\n",
    "    triangle_type = \"Scalene Triangle\"\n",
    "\n",
    "# Print the type of triangle\n",
    "print(f\"The triangle with sides {side1}, {side2}, and {side3} is a {triangle_type}.\")\n"
   ]
  },
  {
   "cell_type": "code",
   "execution_count": null,
   "id": "56af6045-f541-43aa-8285-cee9a6f6bfd3",
   "metadata": {},
   "outputs": [],
   "source": [
    "13. Develop a program that checks if a year is a leap year and also if it is a century year."
   ]
  },
  {
   "cell_type": "code",
   "execution_count": 28,
   "id": "6212486e-a745-44fd-8fa5-5a46207e5172",
   "metadata": {},
   "outputs": [
    {
     "name": "stdout",
     "output_type": "stream",
     "text": [
      "2024 is a leap year.\n",
      "2024 is not a century year.\n"
     ]
    }
   ],
   "source": [
    "# Given year\n",
    "year = 2024\n",
    "\n",
    "# Check if the year is a leap year\n",
    "if (year % 4 == 0 and year % 100 != 0) or (year % 400 == 0):\n",
    "    leap_year = True\n",
    "else:\n",
    "    leap_year = False\n",
    "\n",
    "# Check if the year is a century year\n",
    "if year % 100 == 0:\n",
    "    century_year = True\n",
    "else:\n",
    "    century_year = False\n",
    "\n",
    "# Print the results\n",
    "if leap_year:\n",
    "    print(f\"{year} is a leap year.\")\n",
    "else:\n",
    "    print(f\"{year} is not a leap year.\")\n",
    "\n",
    "if century_year:\n",
    "    print(f\"{year} is a century year.\")\n",
    "else:\n",
    "    print(f\"{year} is not a century year.\")\n"
   ]
  },
  {
   "cell_type": "code",
   "execution_count": null,
   "id": "3781824f-17e2-4f43-a2b8-2ae7f51bc1b1",
   "metadata": {},
   "outputs": [],
   "source": [
    "14. Write a Python script to determine if a number is positive, negative, or zero."
   ]
  },
  {
   "cell_type": "code",
   "execution_count": 29,
   "id": "1ffb95bc-f29d-4a01-92c9-b56744fe9017",
   "metadata": {},
   "outputs": [
    {
     "name": "stdout",
     "output_type": "stream",
     "text": [
      "-10 is a negative number.\n"
     ]
    }
   ],
   "source": [
    "# Given number\n",
    "number = -10\n",
    "\n",
    "# Determine if the number is positive, negative, or zero\n",
    "if number > 0:\n",
    "    print(f\"{number} is a positive number.\")\n",
    "elif number < 0:\n",
    "    print(f\"{number} is a negative number.\")\n",
    "else:\n",
    "    print(f\"{number} is zero.\")\n"
   ]
  },
  {
   "cell_type": "code",
   "execution_count": null,
   "id": "18646ebc-a138-4bec-b2d6-15d3bca2bc2a",
   "metadata": {},
   "outputs": [],
   "source": [
    "15. Create a program to check if a person is a teenager (between 13 and 19 years old)."
   ]
  },
  {
   "cell_type": "code",
   "execution_count": 30,
   "id": "f118285d-429b-4faa-bfa2-7c552f4286b8",
   "metadata": {},
   "outputs": [
    {
     "name": "stdout",
     "output_type": "stream",
     "text": [
      "The person with age 16 is a teenager.\n"
     ]
    }
   ],
   "source": [
    "# Given age\n",
    "age = 16\n",
    "\n",
    "# Check if the person is a teenager\n",
    "if age >= 13 and age <= 19:\n",
    "    print(f\"The person with age {age} is a teenager.\")\n",
    "else:\n",
    "    print(f\"The person with age {age} is not a teenager.\")\n"
   ]
  },
  {
   "cell_type": "code",
   "execution_count": null,
   "id": "436132be-4d1e-4729-aa29-9fc8f3008f8d",
   "metadata": {},
   "outputs": [],
   "source": [
    "16. Develop a program that determines the type of angle based on its measure (acute, obtuse, or right)."
   ]
  },
  {
   "cell_type": "code",
   "execution_count": 31,
   "id": "909f789c-c9e9-4252-985c-3e0af454652d",
   "metadata": {},
   "outputs": [
    {
     "name": "stdout",
     "output_type": "stream",
     "text": [
      "The angle with measure 90 degrees is a Right Angle.\n"
     ]
    }
   ],
   "source": [
    "# Given angle measure\n",
    "angle = 90\n",
    "\n",
    "# Determine the type of angle\n",
    "if angle < 90:\n",
    "    angle_type = \"Acute Angle\"\n",
    "elif angle == 90:\n",
    "    angle_type = \"Right Angle\"\n",
    "else:\n",
    "    angle_type = \"Obtuse Angle\"\n",
    "\n",
    "# Print the type of angle\n",
    "print(f\"The angle with measure {angle} degrees is a {angle_type}.\")\n"
   ]
  },
  {
   "cell_type": "code",
   "execution_count": null,
   "id": "fdb485f3-f330-4e7d-8c06-291c5cf0d76b",
   "metadata": {},
   "outputs": [],
   "source": [
    "17. Write a Python program to calculate the roots of a quadratic equation."
   ]
  },
  {
   "cell_type": "code",
   "execution_count": 32,
   "id": "71414f22-846e-4a2c-917c-e1c2d7ab288b",
   "metadata": {},
   "outputs": [
    {
     "name": "stdout",
     "output_type": "stream",
     "text": [
      "The roots of the quadratic equation 2x^2 + -7x + 3 = 0 are: 3.0 and 0.5\n"
     ]
    }
   ],
   "source": [
    "import math\n",
    "\n",
    "# Coefficients of the quadratic equation: ax^2 + bx + c = 0\n",
    "a = 2\n",
    "b = -7\n",
    "c = 3\n",
    "\n",
    "# Calculate the discriminant\n",
    "discriminant = b**2 - 4*a*c\n",
    "\n",
    "# Check if the discriminant is non-negative\n",
    "if discriminant >= 0:\n",
    "    # Compute the roots\n",
    "    root1 = (-b + math.sqrt(discriminant)) / (2*a)\n",
    "    root2 = (-b - math.sqrt(discriminant)) / (2*a)\n",
    "    \n",
    "    # Print the roots\n",
    "    print(f\"The roots of the quadratic equation {a}x^2 + {b}x + {c} = 0 are: {root1} and {root2}\")\n",
    "else:\n",
    "    # If the discriminant is negative, roots are complex\n",
    "    real_part = -b / (2*a)\n",
    "    imaginary_part = math.sqrt(abs(discriminant)) / (2*a)\n",
    "    root1 = compl\n"
   ]
  },
  {
   "cell_type": "code",
   "execution_count": null,
   "id": "22c2c999-4eba-4dca-9317-6d6b59e2dd70",
   "metadata": {},
   "outputs": [],
   "source": [
    "18. Implement a program to determine the day of the week based on a user-provided number (1 for Monday, 2\n",
    "for Tuesday, etc.)."
   ]
  },
  {
   "cell_type": "code",
   "execution_count": 34,
   "id": "ffe9bcc5-0737-4cd3-8a65-4b2ba2abf91b",
   "metadata": {},
   "outputs": [
    {
     "name": "stdin",
     "output_type": "stream",
     "text": [
      "Enter a number (1-7) to day of the week:  5\n"
     ]
    },
    {
     "name": "stdout",
     "output_type": "stream",
     "text": [
      "The day corresponding to number 5 is Friday.\n"
     ]
    }
   ],
   "source": [
    "# List of days of the week\n",
    "days_of_week = [\"Monday\", \"Tuesday\", \"Wednesday\", \"Thursday\", \"Friday\", \"Saturday\", \"Sunday\"]\n",
    "\n",
    "# Input from the user\n",
    "day_number = int(input(\"Enter a number (1-7) to day of the week: \"))\n",
    "\n",
    "# Check if the input number is within the valid range\n",
    "if 1 <= day_number <= 7:\n",
    "    day_name = days_of_week[day_number - 1]\n",
    "    print(f\"The day corresponding to number {day_number} is {day_name}.\")\n",
    "else:\n",
    "    print(\"Invalid input. Please enter a number between 1 and 7.\")\n"
   ]
  },
  {
   "cell_type": "code",
   "execution_count": null,
   "id": "6a35526a-826e-4b03-bfe2-be882037ab95",
   "metadata": {},
   "outputs": [],
   "source": [
    "19. Create a program that determines if a year is a leap year and also if it is evenly divisible by 400."
   ]
  },
  {
   "cell_type": "code",
   "execution_count": 35,
   "id": "af88d20d-570d-44fe-9489-c94003dfce9e",
   "metadata": {},
   "outputs": [
    {
     "name": "stdout",
     "output_type": "stream",
     "text": [
      "2000 is a leap year.\n",
      "2000 is evenly divisible by 400.\n"
     ]
    }
   ],
   "source": [
    "# Given year\n",
    "year = 2000\n",
    "\n",
    "# Check if the year is a leap year\n",
    "if (year % 4 == 0 and year % 100 != 0) or (year % 400 == 0):\n",
    "    leap_year = True\n",
    "else:\n",
    "    leap_year = False\n",
    "\n",
    "# Check if the year is evenly divisible by 400\n",
    "if year % 400 == 0:\n",
    "    divisible_by_400 = True\n",
    "else:\n",
    "    divisible_by_400 = False\n",
    "\n",
    "# Print the results\n",
    "if leap_year:\n",
    "    print(f\"{year} is a leap year.\")\n",
    "else:\n",
    "    print(f\"{year} is not a leap year.\")\n",
    "\n",
    "if divisible_by_400:\n",
    "    print(f\"{year} is evenly divisible by 400.\")\n",
    "else:\n",
    "    print(f\"{year} is not evenly divisible by 400.\")\n"
   ]
  },
  {
   "cell_type": "code",
   "execution_count": null,
   "id": "0b223beb-7d0b-40b6-a725-e42305ce6ab0",
   "metadata": {},
   "outputs": [],
   "source": [
    "20. Develop a program that checks if a given number is prime or not using nested if-else statements."
   ]
  },
  {
   "cell_type": "code",
   "execution_count": 36,
   "id": "1f018748-b831-4ff3-a502-dc0d5a295f5d",
   "metadata": {},
   "outputs": [
    {
     "name": "stdout",
     "output_type": "stream",
     "text": [
      "29 is a prime number.\n"
     ]
    }
   ],
   "source": [
    "# Given number\n",
    "num = 29\n",
    "\n",
    "# Check if the number is prime\n",
    "if num > 1:\n",
    "    # Iterate from 2 to num-1\n",
    "    for i in range(2, num):\n",
    "        if num % i == 0:\n",
    "            print(f\"{num} is not a prime number.\")\n",
    "            break\n",
    "    else:\n",
    "        print(f\"{num} is a prime number.\")\n",
    "else:\n",
    "    print(f\"{num} is not a prime number.\")\n"
   ]
  },
  {
   "cell_type": "code",
   "execution_count": null,
   "id": "51008505-fb08-444d-b773-9453323ac092",
   "metadata": {},
   "outputs": [],
   "source": [
    "Elif Statements:"
   ]
  },
  {
   "cell_type": "code",
   "execution_count": null,
   "id": "ccc82755-a70c-4fd1-bc8c-50e64b3856ba",
   "metadata": {},
   "outputs": [],
   "source": [
    "21. Write a Python program to assign grades based on different ranges of scores using elif statements.\n"
   ]
  },
  {
   "cell_type": "code",
   "execution_count": 37,
   "id": "92d0e2cf-d23d-4c35-9a26-f2cf8e6c7341",
   "metadata": {},
   "outputs": [
    {
     "name": "stdout",
     "output_type": "stream",
     "text": [
      "For a score of 85, the grade is: B\n"
     ]
    }
   ],
   "source": [
    "# Given score\n",
    "score = 85\n",
    "\n",
    "# Assign grades based on score ranges using elif statements\n",
    "if score >= 90:\n",
    "    grade = 'A'\n",
    "elif score >= 80:\n",
    "    grade = 'B'\n",
    "elif score >= 70:\n",
    "    grade = 'C'\n",
    "elif score >= 60:\n",
    "    grade = 'D'\n",
    "else:\n",
    "    grade = 'F'\n",
    "\n",
    "# Print the grade\n",
    "print(f\"For a score of {score}, the grade is: {grade}\")\n"
   ]
  },
  {
   "cell_type": "code",
   "execution_count": null,
   "id": "90103197-f345-4250-99ab-9a5f20f0c033",
   "metadata": {},
   "outputs": [],
   "source": [
    "22. Implement a program to determine the type of a triangle based on its angles."
   ]
  },
  {
   "cell_type": "code",
   "execution_count": 38,
   "id": "5f8d877c-d76e-4dc1-ae08-9b5ccdd3dec3",
   "metadata": {},
   "outputs": [
    {
     "name": "stdout",
     "output_type": "stream",
     "text": [
      "The triangle with angles 30, 60, and 90 is a Right Triangle.\n"
     ]
    }
   ],
   "source": [
    "# Given angles of the triangle\n",
    "angle1 = 30\n",
    "angle2 = 60\n",
    "angle3 = 90\n",
    "\n",
    "# Check the type of triangle based on its angles\n",
    "if angle1 + angle2 + angle3 == 180:\n",
    "    if angle1 < 90 and angle2 < 90 and angle3 < 90:\n",
    "        triangle_type = \"Acute Triangle\"\n",
    "    elif angle1 == 90 or angle2 == 90 or angle3 == 90:\n",
    "        triangle_type = \"Right Triangle\"\n",
    "    elif angle1 > 90 or angle2 > 90 or angle3 > 90:\n",
    "        triangle_type = \"Obtuse Triangle\"\n",
    "    print(f\"The triangle with angles {angle1}, {angle2}, and {angle3} is a {triangle_type}.\")\n",
    "else:\n",
    "    print(\"Invalid triangle: Sum of angles is not 180 degrees.\")\n"
   ]
  },
  {
   "cell_type": "code",
   "execution_count": null,
   "id": "4e285962-d74c-4486-87bb-d5565d9edd2c",
   "metadata": {},
   "outputs": [],
   "source": [
    "23. Develop a program to categorize a given person's BMI into underweight, normal, overweight, or obese using\n",
    "elif statements."
   ]
  },
  {
   "cell_type": "code",
   "execution_count": 40,
   "id": "5fb9ab33-6d2a-4b25-b1d2-4e12232c70fa",
   "metadata": {},
   "outputs": [
    {
     "name": "stdout",
     "output_type": "stream",
     "text": [
      "For a weight of 94 kg and height of 1.778 m, the BMI is 29.73, which is Overweight.\n"
     ]
    }
   ],
   "source": [
    "# Given weight in kilograms and height in meters\n",
    "weight = 94\n",
    "height = 1.778\n",
    "\n",
    "# Calculate BMI\n",
    "bmi = weight / (height ** 2)\n",
    "\n",
    "# Categorize BMI using elif statements\n",
    "if bmi < 18.5:\n",
    "    category = \"Underweight\"\n",
    "elif 18.5 <= bmi <= 24.9:\n",
    "    category = \"Normal weight\"\n",
    "elif 25 <= bmi <= 29.9:\n",
    "    category = \"Overweight\"\n",
    "else:\n",
    "    category = \"Obese\"\n",
    "\n",
    "# Print the BMI category\n",
    "print(f\"For a weight of {weight} kg and height of {height} m, the BMI is {bmi:.2f}, which is {category}.\")\n",
    "\n"
   ]
  },
  {
   "cell_type": "code",
   "execution_count": null,
   "id": "f5c7e9e9-3540-45f5-9a2b-58e1e5255160",
   "metadata": {},
   "outputs": [],
   "source": [
    "24. Create a program that determines whether a given number is positive, negative, or zero using elif\n",
    "statements."
   ]
  },
  {
   "cell_type": "code",
   "execution_count": 41,
   "id": "d3bf608e-7097-48ec-9591-4201c73da790",
   "metadata": {},
   "outputs": [
    {
     "name": "stdout",
     "output_type": "stream",
     "text": [
      "-10 is negative.\n"
     ]
    }
   ],
   "source": [
    "# Given number\n",
    "number = -10\n",
    "\n",
    "# Determine if the number is positive, negative, or zero using elif statements\n",
    "if number > 0:\n",
    "    print(f\"{number} is positive.\")\n",
    "elif number < 0:\n",
    "    print(f\"{number} is negative.\")\n",
    "else:\n",
    "    print(f\"{number} is zero.\")\n",
    "\n",
    "    "
   ]
  },
  {
   "cell_type": "code",
   "execution_count": null,
   "id": "6c60e8ed-41df-4868-8384-ca8778a29610",
   "metadata": {},
   "outputs": [],
   "source": [
    "25. Write a Python script to determine the type of a character (uppercase, lowercase, or special) using elif\n",
    "statements."
   ]
  },
  {
   "cell_type": "code",
   "execution_count": 42,
   "id": "c94952bc-e9c8-4761-82af-c998168f5611",
   "metadata": {},
   "outputs": [
    {
     "name": "stdout",
     "output_type": "stream",
     "text": [
      "The character '@' is special.\n"
     ]
    }
   ],
   "source": [
    "# Given character\n",
    "char = '@'\n",
    "\n",
    "# Check the type of character using elif statements\n",
    "if char.isupper():\n",
    "    print(f\"The character '{char}' is uppercase.\")\n",
    "elif char.islower():\n",
    "    print(f\"The character '{char}' is lowercase.\")\n",
    "else:\n",
    "    print(f\"The character '{char}' is special.\")\n"
   ]
  },
  {
   "cell_type": "code",
   "execution_count": null,
   "id": "378d384f-5cbc-4c8b-bd72-0c73977b4671",
   "metadata": {},
   "outputs": [],
   "source": [
    "26. Implement a program to calculate the discounted price based on different purchase amounts using elif\n",
    "statements."
   ]
  },
  {
   "cell_type": "code",
   "execution_count": 43,
   "id": "ba9b37ce-bedd-430c-8491-e40a32412c9b",
   "metadata": {},
   "outputs": [
    {
     "name": "stdout",
     "output_type": "stream",
     "text": [
      "For a purchase amount of $120.00:\n",
      "Discount rate applied: 0%\n",
      "Discounted price: $120.00\n"
     ]
    }
   ],
   "source": [
    "# Given purchase amount\n",
    "purchase_amount = 120\n",
    "\n",
    "# Initialize discount rate and discounted price\n",
    "discount_rate = 0\n",
    "discounted_price = 0\n",
    "\n",
    "# Determine the discount based on purchase amount using elif statements\n",
    "if purchase_amount >= 1000:\n",
    "    discount_rate = 0.15  # 15% discount for purchases >= 1000\n",
    "elif purchase_amount >= 500:\n",
    "    discount_rate = 0.1   # 10% discount for purchases >= 500 and < 1000\n",
    "elif purchase_amount >= 200:\n",
    "    discount_rate = 0.05  # 5% discount for purchases >= 200 and < 500\n",
    "else:\n",
    "    discount_rate = 0     # No discount for purchases < 200\n",
    "\n",
    "# Calculate the discounted price\n",
    "discounted_price = purchase_amount * (1 - discount_rate)\n",
    "\n",
    "# Print the results\n",
    "print(f\"For a purchase amount of ${purchase_amount:.2f}:\")\n",
    "print(f\"Discount rate applied: {discount_rate * 100:.0f}%\")\n",
    "print(f\"Discounted price: ${discounted_price:.2f}\")\n"
   ]
  },
  {
   "cell_type": "code",
   "execution_count": null,
   "id": "468b3484-e24f-4466-978f-9451728fd3bd",
   "metadata": {},
   "outputs": [],
   "source": [
    "27. Develop a program to calculate the electricity bill based on different consumption slabs using elif\n",
    "statements."
   ]
  },
  {
   "cell_type": "code",
   "execution_count": 44,
   "id": "18cbeb2c-cb04-4a26-be3c-cc4176bfe26a",
   "metadata": {},
   "outputs": [
    {
     "name": "stdout",
     "output_type": "stream",
     "text": [
      "For a consumption of 350 kWh, the electricity bill is $670.00\n"
     ]
    }
   ],
   "source": [
    "# Given electricity consumption in kilowatt-hours (kWh)\n",
    "consumption = 350\n",
    "\n",
    "# Initialize variables for bill calculation\n",
    "bill = 0\n",
    "\n",
    "# Determine the electricity bill based on consumption slabs using elif statements\n",
    "if consumption <= 100:\n",
    "    bill = consumption * 1.20  # $1.20 per kWh for first 100 kWh\n",
    "elif consumption <= 300:\n",
    "    bill = 100 * 1.20 + (consumption - 100) * 2.00  # $2.00 per kWh for next 200 kWh\n",
    "else:\n",
    "    bill = 100 * 1.20 + 200 * 2.00 + (consumption - 300) * 3.00  # $3.00 per kWh for remaining kWh\n",
    "\n",
    "# Print the electricity bill\n",
    "print(f\"For a consumption of {consumption} kWh, the electricity bill is ${bill:.2f}\")\n"
   ]
  },
  {
   "cell_type": "code",
   "execution_count": null,
   "id": "b3fe9f7b-dcc3-4f52-9d59-3bf4f15610ba",
   "metadata": {},
   "outputs": [],
   "source": [
    "28. Create a program to determine the type of quadrilateral based on its angles and sides using elif\n",
    "statements."
   ]
  },
  {
   "cell_type": "code",
   "execution_count": 45,
   "id": "2a075012-0879-4227-990b-5218ab92ce3d",
   "metadata": {},
   "outputs": [
    {
     "name": "stdout",
     "output_type": "stream",
     "text": [
      "The quadrilateral with angles 90, 90, 90, 90 and sides 5, 5, 5, 5 is a Square.\n"
     ]
    }
   ],
   "source": [
    "# Given angles and sides of the quadrilateral\n",
    "angle1 = 90\n",
    "angle2 = 90\n",
    "angle3 = 90\n",
    "angle4 = 90\n",
    "side1 = 5\n",
    "side2 = 5\n",
    "side3 = 5\n",
    "side4 = 5\n",
    "\n",
    "# Determine the type of quadrilateral based on angles and sides using elif statements\n",
    "if angle1 == angle2 == angle3 == angle4 == 90:\n",
    "    if side1 == side2 == side3 == side4:\n",
    "        quadrilateral_type = \"Square\"\n",
    "    else:\n",
    "        quadrilateral_type = \"Rectangle\"\n",
    "elif angle1 == angle2 and angle3 == angle4 and angle1 + angle2 + angle3 + angle4 == 360:\n",
    "    if side1 == side3 and side2 == side4:\n",
    "        quadrilateral_type = \"Rhombus\"\n",
    "    else:\n",
    "        quadrilateral_type = \"Parallelogram\"\n",
    "else:\n",
    "    quadrilateral_type = \"Quadrilateral\"\n",
    "\n",
    "# Print the type of quadrilateral\n",
    "print(f\"The quadrilateral with angles {angle1}, {angle2}, {angle3}, {angle4} and sides {side1}, {side2}, {side3}, {side4} is a {quadrilateral_type}.\")\n"
   ]
  },
  {
   "cell_type": "code",
   "execution_count": null,
   "id": "1576316a-7b2a-41d2-89ed-b8038ba518db",
   "metadata": {},
   "outputs": [],
   "source": [
    "29. Write a Python script to determine the season based on a user-provided month using elif statements."
   ]
  },
  {
   "cell_type": "code",
   "execution_count": 47,
   "id": "93ddce2e-f9ee-4973-aa8c-601c8887a6cb",
   "metadata": {},
   "outputs": [
    {
     "name": "stdout",
     "output_type": "stream",
     "text": [
      "The month 8 corresponds to the season of Summer.\n"
     ]
    }
   ],
   "source": [
    "# User-provided month (1 for January, 2 for February, ..., 12 for December)\n",
    "month = 8  # Example: August\n",
    "\n",
    "# Determine the season based on the user-provided month using elif statements\n",
    "if month in [3, 4, 5]:\n",
    "    season = \"Spring\"\n",
    "elif month in [6, 7, 8]:\n",
    "    season = \"Summer\"\n",
    "elif month in [9, 10, 11]:\n",
    "    season = \"Autumn\"\n",
    "else:\n",
    "    season = \"Winter\"\n",
    "\n",
    "# Print the season\n",
    "print(f\"The month {month} corresponds to the season of {season}.\")\n"
   ]
  },
  {
   "cell_type": "code",
   "execution_count": null,
   "id": "871c5c07-eb7d-4ada-b712-b2998274c0f4",
   "metadata": {},
   "outputs": [],
   "source": [
    "30. Implement a program to determine the type of a year (leap or common) and month (30 or 31 days) using\n",
    "elif statements."
   ]
  },
  {
   "cell_type": "code",
   "execution_count": 48,
   "id": "e5010be5-948b-4d85-9ddb-5bb88987d145",
   "metadata": {},
   "outputs": [
    {
     "name": "stdout",
     "output_type": "stream",
     "text": [
      "The year 2024 is a Leap Year.\n",
      "The month 2 has 29 days.\n"
     ]
    }
   ],
   "source": [
    "# User-provided year and month\n",
    "year = 2024  # Example: Leap year\n",
    "month = 2    # Example: February\n",
    "\n",
    "# Determine if the year is leap or common using elif statements\n",
    "if year % 4 == 0:\n",
    "    if year % 100 == 0:\n",
    "        if year % 400 == 0:\n",
    "            year_type = \"Leap Year\"\n",
    "        else:\n",
    "            year_type = \"Common Year\"\n",
    "    else:\n",
    "        year_type = \"Leap Year\"\n",
    "else:\n",
    "    year_type = \"Common Year\"\n",
    "\n",
    "# Determine the number of days in the month using elif statements\n",
    "if month in [1, 3, 5, 7, 8, 10, 12]:\n",
    "    days_in_month = 31\n",
    "elif month in [4, 6, 9, 11]:\n",
    "    days_in_month = 30\n",
    "elif month == 2:\n",
    "    if year_type == \"Leap Year\":\n",
    "        days_in_month = 29\n",
    "    else:\n",
    "        days_in_month = 28\n",
    "else:\n",
    "    days_in_month = None  # Invalid month input\n",
    "\n",
    "# Print the results\n",
    "print(f\"The year {year} is a {year_type}.\")\n",
    "if days_in_month:\n",
    "    print(f\"The month {month} has {days_in_month} days.\")\n",
    "else:\n",
    "    print(\"Invalid month input.\")\n"
   ]
  },
  {
   "cell_type": "code",
   "execution_count": null,
   "id": "7e92a56b-b5dd-4f51-acd4-0a91ec857e26",
   "metadata": {},
   "outputs": [],
   "source": []
  },
  {
   "cell_type": "code",
   "execution_count": null,
   "id": "818dc2e7-4ab2-41e0-9ecf-a97a75fbab11",
   "metadata": {},
   "outputs": [],
   "source": [
    "Basic Level:"
   ]
  },
  {
   "cell_type": "code",
   "execution_count": null,
   "id": "b25489a9-9816-458d-80a9-1f4ec23db90a",
   "metadata": {},
   "outputs": [],
   "source": [
    "1. Write a Python program that checks if a given number is positive, negative, or zero."
   ]
  },
  {
   "cell_type": "code",
   "execution_count": 1,
   "id": "604b7b36-ed25-44dc-9c70-1ae2d8b818aa",
   "metadata": {},
   "outputs": [
    {
     "name": "stdin",
     "output_type": "stream",
     "text": [
      "Enter a number 5\n"
     ]
    },
    {
     "name": "stdout",
     "output_type": "stream",
     "text": [
      "5 Number is positive\n"
     ]
    }
   ],
   "source": [
    "num=int(input(\"Enter a number\"))\n",
    "if num == 0:\n",
    "    peint(num,\"Number is zero\")\n",
    "elif num>0:\n",
    "    print(num,\"Number is positive\")\n",
    "else:\n",
    "    print(num,\"Num is positive\")"
   ]
  },
  {
   "cell_type": "code",
   "execution_count": null,
   "id": "e6ba1274-b143-4a61-9438-f22f2311f6ee",
   "metadata": {},
   "outputs": [],
   "source": [
    "2. Create a program to determine if a person is eligible to vote based on their age."
   ]
  },
  {
   "cell_type": "code",
   "execution_count": 3,
   "id": "0f930898-f728-434a-b080-7881016dd853",
   "metadata": {},
   "outputs": [
    {
     "name": "stdin",
     "output_type": "stream",
     "text": [
      "Enter your age 25\n"
     ]
    },
    {
     "name": "stdout",
     "output_type": "stream",
     "text": [
      "you are eligible to cast a vote\n"
     ]
    }
   ],
   "source": [
    "age=int(input(\"Enter your age\"))\n",
    "if age <= 18:\n",
    "    print(\"you are not eligible to cast a vote\")\n",
    "else:\n",
    "    print(\"you are eligible to cast a vote\")"
   ]
  },
  {
   "cell_type": "code",
   "execution_count": null,
   "id": "748f0180-b241-4495-94a8-047c1d9a9ffe",
   "metadata": {},
   "outputs": [],
   "source": [
    "3. Write a program to find the maximum of two given numbers using conditional statements."
   ]
  },
  {
   "cell_type": "code",
   "execution_count": 4,
   "id": "73e764f9-9c1f-436f-9f31-7e59e538ff24",
   "metadata": {},
   "outputs": [
    {
     "name": "stdout",
     "output_type": "stream",
     "text": [
      "32 is maximum\n"
     ]
    }
   ],
   "source": [
    "a=10\n",
    "b=32\n",
    "if a>b:\n",
    "    print(a,\" is maximun\")\n",
    "else:\n",
    "    print(b,\"is maximum\")"
   ]
  },
  {
   "cell_type": "code",
   "execution_count": null,
   "id": "704963a4-4b7b-454a-9ffc-12a6734b9788",
   "metadata": {},
   "outputs": [],
   "source": [
    "4. Develop a program that calculates the grade of a student based on their exam score."
   ]
  },
  {
   "cell_type": "code",
   "execution_count": 5,
   "id": "f643988a-b0c4-432d-b51e-8de6949ea879",
   "metadata": {},
   "outputs": [
    {
     "name": "stdin",
     "output_type": "stream",
     "text": [
      "Enter the student's exam score:  50\n"
     ]
    },
    {
     "name": "stdout",
     "output_type": "stream",
     "text": [
      "The student's grade is: F\n"
     ]
    }
   ],
   "source": [
    "# Input the student's exam score\n",
    "score = float(input(\"Enter the student's exam score: \"))\n",
    "\n",
    "# Determine the grade based on the score\n",
    "if score >= 90 and score <= 100:\n",
    "    grade = 'A'\n",
    "elif score >= 80 and score < 90:\n",
    "    grade = 'B'\n",
    "elif score >= 70 and score < 80:\n",
    "    grade = 'C'\n",
    "elif score >= 60 and score < 70:\n",
    "    grade = 'D'\n",
    "elif score >= 0 and score < 60:\n",
    "    grade = 'F'\n",
    "else:\n",
    "    grade = 'Invalid score'\n",
    "\n",
    "# Output the grade\n",
    "print(f\"The student's grade is: {grade}\")\n"
   ]
  },
  {
   "cell_type": "code",
   "execution_count": null,
   "id": "678b35cf-02ee-4b3b-a0fb-e658b475f537",
   "metadata": {},
   "outputs": [],
   "source": [
    "5. Create a program that checks if a year is a leap year or not."
   ]
  },
  {
   "cell_type": "code",
   "execution_count": 6,
   "id": "c6935479-f530-4d5a-82a1-d72c5a2ba88a",
   "metadata": {},
   "outputs": [
    {
     "name": "stdin",
     "output_type": "stream",
     "text": [
      "Enter a year:  2024\n"
     ]
    },
    {
     "name": "stdout",
     "output_type": "stream",
     "text": [
      "2024 is a leap year.\n"
     ]
    }
   ],
   "source": [
    "# Input the year\n",
    "year = int(input(\"Enter a year: \"))\n",
    "\n",
    "# Determine if it's a leap year\n",
    "if (year % 4 == 0 and year % 100 != 0) or (year % 400 == 0):\n",
    "    is_leap_year = True\n",
    "else:\n",
    "    is_leap_year = False\n",
    "\n",
    "# Output the result\n",
    "if is_leap_year:\n",
    "    print(f\"{year} is a leap year.\")\n",
    "else:\n",
    "    print(f\"{year} is not a leap year.\")\n"
   ]
  },
  {
   "cell_type": "code",
   "execution_count": null,
   "id": "0051e2d2-be83-4a4b-8351-3dd6cfb743f0",
   "metadata": {},
   "outputs": [],
   "source": [
    "6. Write a program to classify a triangle based on its sides' lengths."
   ]
  },
  {
   "cell_type": "code",
   "execution_count": 7,
   "id": "cb46c657-873b-40f6-9f47-261a47de0cdd",
   "metadata": {},
   "outputs": [
    {
     "name": "stdin",
     "output_type": "stream",
     "text": [
      "Enter the length of the first side:  3\n",
      "Enter the length of the second side:  2\n",
      "Enter the length of the third side:  5\n"
     ]
    },
    {
     "name": "stdout",
     "output_type": "stream",
     "text": [
      "The triangle is not a valid triangle.\n"
     ]
    }
   ],
   "source": [
    "# Input the lengths of the sides of the triangle\n",
    "a = float(input(\"Enter the length of the first side: \"))\n",
    "b = float(input(\"Enter the length of the second side: \"))\n",
    "c = float(input(\"Enter the length of the third side: \"))\n",
    "\n",
    "# Check if the input lengths can form a triangle\n",
    "if a + b > c and a + c > b and b + c > a:\n",
    "    # Classify the triangle\n",
    "    if a == b == c:\n",
    "        triangle_type = \"Equilateral\"\n",
    "    elif a == b or a == c or b == c:\n",
    "        triangle_type = \"Isosceles\"\n",
    "    else:\n",
    "        triangle_type = \"Scalene\"\n",
    "else:\n",
    "    triangle_type = \"not a valid triangle\"\n",
    "\n",
    "# Output the type of triangle\n",
    "print(f\"The triangle is {triangle_type}.\")\n"
   ]
  },
  {
   "cell_type": "code",
   "execution_count": null,
   "id": "e4fca999-7cea-412c-9088-c60488361723",
   "metadata": {},
   "outputs": [],
   "source": [
    "7. Build a program that determines the largest of three given numbers."
   ]
  },
  {
   "cell_type": "code",
   "execution_count": 8,
   "id": "f7f915f6-1303-48f3-b24c-19f5771f66a7",
   "metadata": {},
   "outputs": [
    {
     "name": "stdin",
     "output_type": "stream",
     "text": [
      "Enter the first number:  5\n",
      "Enter the second number:  6\n",
      "Enter the third number:  8\n"
     ]
    },
    {
     "name": "stdout",
     "output_type": "stream",
     "text": [
      "The largest number is: 8.0\n"
     ]
    }
   ],
   "source": [
    "# Input three numbers\n",
    "num1 = float(input(\"Enter the first number: \"))\n",
    "num2 = float(input(\"Enter the second number: \"))\n",
    "num3 = float(input(\"Enter the third number: \"))\n",
    "\n",
    "# Determine the largest number\n",
    "if num1 >= num2 and num1 >= num3:\n",
    "    largest = num1\n",
    "elif num2 >= num1 and num2 >= num3:\n",
    "    largest = num2\n",
    "else:\n",
    "    largest = num3\n",
    "\n",
    "# Output the largest number\n",
    "print(f\"The largest number is: {largest}\")\n"
   ]
  },
  {
   "cell_type": "code",
   "execution_count": null,
   "id": "e8102e38-4bea-4514-b002-d0ce6fb6141f",
   "metadata": {},
   "outputs": [],
   "source": [
    "8. Develop a program that checks whether a character is a vowel or a consonant."
   ]
  },
  {
   "cell_type": "code",
   "execution_count": 10,
   "id": "44be401e-2b63-4be1-991b-d7c55a830190",
   "metadata": {},
   "outputs": [
    {
     "name": "stdin",
     "output_type": "stream",
     "text": [
      "Enter a character:  h\n"
     ]
    },
    {
     "name": "stdout",
     "output_type": "stream",
     "text": [
      "The character is a consonant.\n"
     ]
    }
   ],
   "source": [
    "# Input a character\n",
    "char = input(\"Enter a character: \").lower()\n",
    "\n",
    "# Check if the input is a single alphabetic character\n",
    "if len(char) == 1 and char.isalpha():\n",
    "    # Check if the character is a vowel or consonant\n",
    "    if char in 'aeiou':\n",
    "        result = \"vowel\"\n",
    "    else:\n",
    "        result = \"consonant\"\n",
    "else:\n",
    "    result = \"invalid input\"\n",
    "\n",
    "# Output the result\n",
    "print(f\"The character is a {result}.\")\n"
   ]
  },
  {
   "cell_type": "code",
   "execution_count": null,
   "id": "6680b039-8887-4436-9a41-ed21193fafcd",
   "metadata": {},
   "outputs": [],
   "source": [
    "9. Create a program to calculate the total cost of a shopping cart based on discounts."
   ]
  },
  {
   "cell_type": "code",
   "execution_count": 11,
   "id": "75b1aed6-919b-4690-9f3c-1dac60a2574e",
   "metadata": {},
   "outputs": [
    {
     "name": "stdout",
     "output_type": "stream",
     "text": [
      "Total cost before discount: $14.00\n",
      "Discount amount: $1.40\n",
      "Total cost after discount: $12.60\n"
     ]
    }
   ],
   "source": [
    "# Define the items and their prices\n",
    "shopping_cart = [\n",
    "    {\"name\": \"Apple\", \"price\": 1.00, \"quantity\": 3},\n",
    "    {\"name\": \"Banana\", \"price\": 0.50, \"quantity\": 6},\n",
    "    {\"name\": \"Orange\", \"price\": 0.75, \"quantity\": 4},\n",
    "    {\"name\": \"Milk\", \"price\": 2.50, \"quantity\": 2}\n",
    "]\n",
    "\n",
    "# Define the discount rate (e.g., 10% discount)\n",
    "discount_rate = 0.10\n",
    "\n",
    "# Calculate the total cost before discount\n",
    "total_cost_before_discount = sum(item[\"price\"] * item[\"quantity\"] for item in shopping_cart)\n",
    "\n",
    "# Calculate the discount amount\n",
    "discount_amount = total_cost_before_discount * discount_rate\n",
    "\n",
    "# Calculate the total cost after discount\n",
    "total_cost_after_discount = total_cost_before_discount - discount_amount\n",
    "\n",
    "# Output the total cost before discount, discount amount, and total cost after discount\n",
    "print(f\"Total cost before discount: ${total_cost_before_discount:.2f}\")\n",
    "print(f\"Discount amount: ${discount_amount:.2f}\")\n",
    "print(f\"Total cost after discount: ${total_cost_after_discount:.2f}\")\n"
   ]
  },
  {
   "cell_type": "code",
   "execution_count": null,
   "id": "75987f82-3a6a-4a33-8055-919ed9389be1",
   "metadata": {},
   "outputs": [],
   "source": [
    "10. Write a program that checks if a given number is even or odd."
   ]
  },
  {
   "cell_type": "code",
   "execution_count": 12,
   "id": "18adc078-af30-480d-a752-a87abea52333",
   "metadata": {},
   "outputs": [
    {
     "name": "stdin",
     "output_type": "stream",
     "text": [
      "Enter a number:  6\n"
     ]
    },
    {
     "name": "stdout",
     "output_type": "stream",
     "text": [
      "The number 6 is even.\n"
     ]
    }
   ],
   "source": [
    "# Input a number\n",
    "number = int(input(\"Enter a number: \"))\n",
    "\n",
    "# Check if the number is even or odd\n",
    "if number % 2 == 0:\n",
    "    result = \"even\"\n",
    "else:\n",
    "    result = \"odd\"\n",
    "\n",
    "# Output the result\n",
    "print(f\"The number {number} is {result}.\")\n"
   ]
  },
  {
   "cell_type": "code",
   "execution_count": null,
   "id": "ab5f1aaf-d7e4-4dde-957c-6d09b6b03d4c",
   "metadata": {},
   "outputs": [],
   "source": []
  },
  {
   "cell_type": "code",
   "execution_count": null,
   "id": "cf7b364c-3d09-4701-b3c6-28ca97dd88c8",
   "metadata": {},
   "outputs": [],
   "source": [
    "Intermediate Level:"
   ]
  },
  {
   "cell_type": "code",
   "execution_count": null,
   "id": "af773956-a8b7-416d-bda7-96a6bcd9efa4",
   "metadata": {},
   "outputs": [],
   "source": []
  },
  {
   "cell_type": "code",
   "execution_count": null,
   "id": "425bb448-8eef-450d-b54f-27de1026d85c",
   "metadata": {},
   "outputs": [],
   "source": [
    "11. Write a program that calculates the roots of a quadratic equation ."
   ]
  },
  {
   "cell_type": "code",
   "execution_count": 13,
   "id": "3a879019-f4d2-4827-a7f7-e1141b7c2d7d",
   "metadata": {},
   "outputs": [
    {
     "name": "stdin",
     "output_type": "stream",
     "text": [
      "Enter the coefficient a:  25\n",
      "Enter the coefficient b:  24\n",
      "Enter the coefficient c:  23\n"
     ]
    },
    {
     "name": "stdout",
     "output_type": "stream",
     "text": [
      "The equation has two complex roots: -0.48 + 0.8304215796810678i and -0.48 - 0.8304215796810678i\n"
     ]
    }
   ],
   "source": [
    "import math\n",
    "\n",
    "# Input the coefficients of the quadratic equation\n",
    "a = float(input(\"Enter the coefficient a: \"))\n",
    "b = float(input(\"Enter the coefficient b: \"))\n",
    "c = float(input(\"Enter the coefficient c: \"))\n",
    "\n",
    "# Calculate the discriminant\n",
    "discriminant = b**2 - 4*a*c\n",
    "\n",
    "# Determine the nature of the roots and calculate them\n",
    "if discriminant > 0:\n",
    "    root1 = (-b + math.sqrt(discriminant)) / (2*a)\n",
    "    root2 = (-b - math.sqrt(discriminant)) / (2*a)\n",
    "    result = f\"The equation has two distinct real roots: {root1} and {root2}\"\n",
    "elif discriminant == 0:\n",
    "    root = -b / (2*a)\n",
    "    result = f\"The equation has one real root: {root}\"\n",
    "else:\n",
    "    real_part = -b / (2*a)\n",
    "    imaginary_part = math.sqrt(-discriminant) / (2*a)\n",
    "    result = f\"The equation has two complex roots: {real_part} + {imaginary_part}i and {real_part} - {imaginary_part}i\"\n",
    "\n",
    "# Output the result\n",
    "print(result)\n"
   ]
  },
  {
   "cell_type": "code",
   "execution_count": null,
   "id": "734b172c-7833-4bd8-863a-769880b97701",
   "metadata": {},
   "outputs": [],
   "source": [
    "12. Create a program that determines the day of the week based on the day number (1-7)."
   ]
  },
  {
   "cell_type": "code",
   "execution_count": 14,
   "id": "2f9c6d9a-75b9-43e0-9e9a-4d79d49d8d33",
   "metadata": {},
   "outputs": [
    {
     "name": "stdin",
     "output_type": "stream",
     "text": [
      "Enter the day number (1-7):  5\n"
     ]
    },
    {
     "name": "stdout",
     "output_type": "stream",
     "text": [
      "The day of the week is: Friday\n"
     ]
    }
   ],
   "source": [
    "# Input the day number\n",
    "day_number = int(input(\"Enter the day number (1-7): \"))\n",
    "\n",
    "# Determine the day of the week\n",
    "if day_number == 1:\n",
    "    day = \"Monday\"\n",
    "elif day_number == 2:\n",
    "    day = \"Tuesday\"\n",
    "elif day_number == 3:\n",
    "    day = \"Wednesday\"\n",
    "elif day_number == 4:\n",
    "    day = \"Thursday\"\n",
    "elif day_number == 5:\n",
    "    day = \"Friday\"\n",
    "elif day_number == 6:\n",
    "    day = \"Saturday\"\n",
    "elif day_number == 7:\n",
    "    day = \"Sunday\"\n",
    "else:\n",
    "    day = \"Invalid day number\"\n",
    "\n",
    "# Output the result\n",
    "print(f\"The day of the week is: {day}\")\n"
   ]
  },
  {
   "cell_type": "code",
   "execution_count": null,
   "id": "9d5b1eb4-7ca6-4954-a676-1a400b93aa19",
   "metadata": {},
   "outputs": [],
   "source": [
    "13. Develop a program that calculates the factorial of a given number using recursion."
   ]
  },
  {
   "cell_type": "code",
   "execution_count": 15,
   "id": "72a18c28-559f-4267-a0c7-93fa80c3be12",
   "metadata": {},
   "outputs": [
    {
     "name": "stdin",
     "output_type": "stream",
     "text": [
      "Enter a number to calculate its factorial:  5\n"
     ]
    },
    {
     "name": "stdout",
     "output_type": "stream",
     "text": [
      "The factorial of 5 is: 120\n"
     ]
    }
   ],
   "source": [
    "def factorial(n):\n",
    "    # Base case: factorial of 0 or 1 is 1\n",
    "    if n == 0 or n == 1:\n",
    "        return 1\n",
    "    # Recursive case\n",
    "    else:\n",
    "        return n * factorial(n - 1)\n",
    "\n",
    "# Input a number\n",
    "number = int(input(\"Enter a number to calculate its factorial: \"))\n",
    "\n",
    "# Check if the number is negative\n",
    "if number < 0:\n",
    "    result = \"Factorial is not defined for negative numbers.\"\n",
    "else:\n",
    "    # Calculate factorial using recursion\n",
    "    result = factorial(number)\n",
    "\n",
    "# Output the result\n",
    "print(f\"The factorial of {number} is: {result}\")\n"
   ]
  },
  {
   "cell_type": "code",
   "execution_count": null,
   "id": "0b90ad6f-a676-40b7-b270-102c04668311",
   "metadata": {},
   "outputs": [],
   "source": [
    "14. Write a program to find the largest among three numbers without using the `max()` function."
   ]
  },
  {
   "cell_type": "code",
   "execution_count": 16,
   "id": "03dfd0b1-a441-4b28-9f7b-c58c99ecc9fe",
   "metadata": {},
   "outputs": [
    {
     "name": "stdin",
     "output_type": "stream",
     "text": [
      "Enter the first number:  52\n",
      "Enter the second number:  45\n",
      "Enter the third number:  25\n"
     ]
    },
    {
     "name": "stdout",
     "output_type": "stream",
     "text": [
      "The largest number is: 52.0\n"
     ]
    }
   ],
   "source": [
    "# Input three numbers\n",
    "num1 = float(input(\"Enter the first number: \"))\n",
    "num2 = float(input(\"Enter the second number: \"))\n",
    "num3 = float(input(\"Enter the third number: \"))\n",
    "\n",
    "# Determine the largest number\n",
    "if num1 >= num2 and num1 >= num3:\n",
    "    largest = num1\n",
    "elif num2 >= num1 and num2 >= num3:\n",
    "    largest = num2\n",
    "else:\n",
    "    largest = num3\n",
    "\n",
    "# Output the largest number\n",
    "print(f\"The largest number is: {largest}\")\n"
   ]
  },
  {
   "cell_type": "code",
   "execution_count": null,
   "id": "f29c2249-3ab3-4787-b93a-415f78be9b5f",
   "metadata": {},
   "outputs": [],
   "source": [
    "15. Create a program that simulates a basic ATM transaction menu."
   ]
  },
  {
   "cell_type": "code",
   "execution_count": 17,
   "id": "a8ef431b-9d16-4018-8ac4-a03eb99665f2",
   "metadata": {},
   "outputs": [
    {
     "name": "stdout",
     "output_type": "stream",
     "text": [
      "\n",
      "ATM Menu:\n",
      "1. Check Balance\n",
      "2. Deposit Money\n",
      "3. Withdraw Money\n",
      "4. Exit\n"
     ]
    },
    {
     "name": "stdin",
     "output_type": "stream",
     "text": [
      "Select an option (1-4):  2\n",
      "Enter the amount to deposit: $ 200\n"
     ]
    },
    {
     "name": "stdout",
     "output_type": "stream",
     "text": [
      "$200.00 has been deposited into your account.\n",
      "\n",
      "ATM Menu:\n",
      "1. Check Balance\n",
      "2. Deposit Money\n",
      "3. Withdraw Money\n",
      "4. Exit\n"
     ]
    },
    {
     "name": "stdin",
     "output_type": "stream",
     "text": [
      "Select an option (1-4):  4\n"
     ]
    },
    {
     "name": "stdout",
     "output_type": "stream",
     "text": [
      "Exiting... Thank you for using the ATM.\n"
     ]
    }
   ],
   "source": [
    "# Initial balance\n",
    "balance = 1000.00\n",
    "\n",
    "def display_menu():\n",
    "    print(\"\\nATM Menu:\")\n",
    "    print(\"1. Check Balance\")\n",
    "    print(\"2. Deposit Money\")\n",
    "    print(\"3. Withdraw Money\")\n",
    "    print(\"4. Exit\")\n",
    "\n",
    "def check_balance():\n",
    "    print(f\"Your current balance is: ${balance:.2f}\")\n",
    "\n",
    "def deposit_money():\n",
    "    global balance\n",
    "    amount = float(input(\"Enter the amount to deposit: $\"))\n",
    "    if amount > 0:\n",
    "        balance += amount\n",
    "        print(f\"${amount:.2f} has been deposited into your account.\")\n",
    "    else:\n",
    "        print(\"Invalid deposit amount.\")\n",
    "\n",
    "def withdraw_money():\n",
    "    global balance\n",
    "    amount = float(input(\"Enter the amount to withdraw: $\"))\n",
    "    if 0 < amount <= balance:\n",
    "        balance -= amount\n",
    "        print(f\"${amount:.2f} has been withdrawn from your account.\")\n",
    "    elif amount > balance:\n",
    "        print(\"Insufficient funds.\")\n",
    "    else:\n",
    "        print(\"Invalid withdrawal amount.\")\n",
    "\n",
    "def atm_simulation():\n",
    "    while True:\n",
    "        display_menu()\n",
    "        choice = input(\"Select an option (1-4): \")\n",
    "        \n",
    "        if choice == '1':\n",
    "            check_balance()\n",
    "        elif choice == '2':\n",
    "            deposit_money()\n",
    "        elif choice == '3':\n",
    "            withdraw_money()\n",
    "        elif choice == '4':\n",
    "            print(\"Exiting... Thank you for using the ATM.\")\n",
    "            break\n",
    "        else:\n",
    "            print(\"Invalid choice. Please select a valid option.\")\n",
    "\n",
    "# Run the ATM simulation\n",
    "atm_simulation()\n"
   ]
  },
  {
   "cell_type": "code",
   "execution_count": null,
   "id": "6db96f87-c835-45d6-b4f0-2a8300dea0b9",
   "metadata": {},
   "outputs": [],
   "source": [
    "16. Build a program that checks if a given string is a palindrome or not."
   ]
  },
  {
   "cell_type": "code",
   "execution_count": 18,
   "id": "d770c140-680b-4424-99b2-22a1778c18fa",
   "metadata": {},
   "outputs": [
    {
     "name": "stdin",
     "output_type": "stream",
     "text": [
      "Enter a string:  hjl\n"
     ]
    },
    {
     "name": "stdout",
     "output_type": "stream",
     "text": [
      "\"hjl\" is not a palindrome.\n"
     ]
    }
   ],
   "source": [
    "# Input a string\n",
    "input_string = input(\"Enter a string: \")\n",
    "\n",
    "# Remove spaces and convert to lowercase\n",
    "cleaned_str = input_string.replace(\" \", \"\").lower()\n",
    "\n",
    "# Check if the cleaned string is equal to its reverse\n",
    "if cleaned_str == cleaned_str[::-1]:\n",
    "    print(f'\"{input_string}\" is a palindrome.')\n",
    "else:\n",
    "    print(f'\"{input_string}\" is not a palindrome.')\n"
   ]
  },
  {
   "cell_type": "code",
   "execution_count": null,
   "id": "69208b43-a040-4701-ac90-4b595900b2a1",
   "metadata": {},
   "outputs": [],
   "source": [
    "17. Write a program that calculates the average of a list of numbers, excluding the smallest and largest values."
   ]
  },
  {
   "cell_type": "code",
   "execution_count": 19,
   "id": "ac152a30-a191-48a5-8830-1d73f52e76f6",
   "metadata": {},
   "outputs": [
    {
     "name": "stdin",
     "output_type": "stream",
     "text": [
      "Enter numbers separated by spaces:  1 2 3 4 5 6 7 8 9\n"
     ]
    },
    {
     "name": "stdout",
     "output_type": "stream",
     "text": [
      "The average, excluding the smallest and largest values, is: 5.00\n"
     ]
    }
   ],
   "source": [
    "# Input the list of numbers\n",
    "numbers = list(map(float, input(\"Enter numbers separated by spaces: \").split()))\n",
    "\n",
    "# Check if the list is large enough to exclude the smallest and largest values\n",
    "if len(numbers) > 2:\n",
    "    # Find the smallest and largest values\n",
    "    smallest = min(numbers)\n",
    "    largest = max(numbers)\n",
    "    \n",
    "    # Remove the smallest and largest values\n",
    "    numbers.remove(smallest)\n",
    "    numbers.remove(largest)\n",
    "    \n",
    "    # Calculate the average of the remaining numbers\n",
    "    average = sum(numbers) / len(numbers)\n",
    "    \n",
    "    print(f\"The average, excluding the smallest and largest values, is: {average:.2f}\")\n",
    "else:\n",
    "    print(\"The list must contain more than two numbers.\")\n"
   ]
  },
  {
   "cell_type": "code",
   "execution_count": null,
   "id": "b1dfe059-8ade-4276-b954-a76ee5497d2d",
   "metadata": {},
   "outputs": [],
   "source": [
    "18. Develop a program that converts a given temperature from Celsius to Fahrenheit."
   ]
  },
  {
   "cell_type": "code",
   "execution_count": 20,
   "id": "4d9b7b79-4fad-441c-b3be-96b2fa64edfb",
   "metadata": {},
   "outputs": [
    {
     "name": "stdin",
     "output_type": "stream",
     "text": [
      "Enter the temperature in Celsius:  25\n"
     ]
    },
    {
     "name": "stdout",
     "output_type": "stream",
     "text": [
      "The temperature in Fahrenheit is: 77.00\n"
     ]
    }
   ],
   "source": [
    "# Input the temperature in Celsius\n",
    "celsius = float(input(\"Enter the temperature in Celsius: \"))\n",
    "\n",
    "# Convert Celsius to Fahrenheit\n",
    "fahrenheit = (celsius * 9/5) + 32\n",
    "\n",
    "# Output the temperature in Fahrenheit\n",
    "print(f\"The temperature in Fahrenheit is: {fahrenheit:.2f}\")\n"
   ]
  },
  {
   "cell_type": "code",
   "execution_count": null,
   "id": "8e8b963d-60ed-4975-bafa-fcc22cd41b15",
   "metadata": {},
   "outputs": [],
   "source": [
    "19. Create a program that simulates a basic calculator for addition, subtraction, multiplication, and division."
   ]
  },
  {
   "cell_type": "code",
   "execution_count": 21,
   "id": "6c9b9973-1270-4b35-9267-00d5d90310c9",
   "metadata": {},
   "outputs": [
    {
     "name": "stdout",
     "output_type": "stream",
     "text": [
      "Basic Calculator\n",
      "1. Addition\n",
      "2. Subtraction\n",
      "3. Multiplication\n",
      "4. Division\n"
     ]
    },
    {
     "name": "stdin",
     "output_type": "stream",
     "text": [
      "Select an operation (1/2/3/4):  2\n",
      "Enter the first number:  5\n",
      "Enter the second number:  2\n"
     ]
    },
    {
     "name": "stdout",
     "output_type": "stream",
     "text": [
      "The result of subtraction is: 3.00\n"
     ]
    }
   ],
   "source": [
    "# Display the calculator menu\n",
    "print(\"Basic Calculator\")\n",
    "print(\"1. Addition\")\n",
    "print(\"2. Subtraction\")\n",
    "print(\"3. Multiplication\")\n",
    "print(\"4. Division\")\n",
    "\n",
    "# Input choice of operation\n",
    "choice = input(\"Select an operation (1/2/3/4): \")\n",
    "\n",
    "# Input the numbers\n",
    "num1 = float(input(\"Enter the first number: \"))\n",
    "num2 = float(input(\"Enter the second number: \"))\n",
    "\n",
    "# Perform the operation based on the user's choice\n",
    "if choice == '1':\n",
    "    result = num1 + num2\n",
    "    operation = \"addition\"\n",
    "elif choice == '2':\n",
    "    result = num1 - num2\n",
    "    operation = \"subtraction\"\n",
    "elif choice == '3':\n",
    "    result = num1 * num2\n",
    "    operation = \"multiplication\"\n",
    "elif choice == '4':\n",
    "    if num2 != 0:\n",
    "        result = num1 / num2\n",
    "        operation = \"division\"\n",
    "    else:\n",
    "        result = \"Error: Division by zero\"\n",
    "        operation = \"division\"\n",
    "else:\n",
    "    result = \"Invalid choice\"\n",
    "    operation = \"operation\"\n",
    "\n",
    "# Output the result\n",
    "if result == \"Error: Division by zero\":\n",
    "    print(result)\n",
    "else:\n",
    "    print(f\"The result of {operation} is: {result:.2f}\")\n"
   ]
  },
  {
   "cell_type": "code",
   "execution_count": null,
   "id": "ca771942-cc17-448e-b0b7-1bb7b5a550fe",
   "metadata": {},
   "outputs": [],
   "source": [
    "20. Write a program that determines the roots of a cubic equation using the Cardano formula."
   ]
  },
  {
   "cell_type": "code",
   "execution_count": 22,
   "id": "f9fb5c75-d7da-4916-bfec-35d362575666",
   "metadata": {},
   "outputs": [
    {
     "name": "stdin",
     "output_type": "stream",
     "text": [
      "Enter the coefficient a:  5\n",
      "Enter the coefficient b:  2\n",
      "Enter the coefficient c:  6\n",
      "Enter the coefficient d:  5\n"
     ]
    },
    {
     "name": "stdout",
     "output_type": "stream",
     "text": [
      "The roots of the cubic equation are:\n",
      "Root 1: (-0.39999999999999997+2.492685234493986j)\n",
      "Root 2: (-0.39999999999999997-1.387375384013259j)\n",
      "Root 3: (-0.39999999999999997-1.105309850480726j)\n"
     ]
    }
   ],
   "source": [
    "import cmath\n",
    "\n",
    "# Input the coefficients of the cubic equation\n",
    "a = float(input(\"Enter the coefficient a: \"))\n",
    "b = float(input(\"Enter the coefficient b: \"))\n",
    "c = float(input(\"Enter the coefficient c: \"))\n",
    "d = float(input(\"Enter the coefficient d: \"))\n",
    "\n",
    "# Normalize coefficients\n",
    "a1 = b / a\n",
    "b1 = c / a\n",
    "c1 = d / a\n",
    "\n",
    "# Compute the discriminant\n",
    "delta0 = b1**2 - 3*c1\n",
    "delta1 = 2*b1**3 - 9*b1*c1 + 27*d / a\n",
    "\n",
    "# Compute the discriminant of the discriminant\n",
    "discriminant = (delta1**2 - 4*delta0**3) / 27\n",
    "\n",
    "# Compute the roots\n",
    "C = cmath.sqrt(delta1**2 - 4*delta0**3) / 2\n",
    "if C == 0:\n",
    "    C = cmath.sqrt(discriminant)\n",
    "\n",
    "theta = cmath.acos(delta1 / (2 * C))\n",
    "r = -b1 / 3\n",
    "\n",
    "root1 = r + 2 * cmath.sqrt(delta0) * cmath.cos(theta / 3)\n",
    "root2 = r + 2 * cmath.sqrt(delta0) * cmath.cos((theta + 2 * cmath.pi) / 3)\n",
    "root3 = r + 2 * cmath.sqrt(delta0) * cmath.cos((theta + 4 * cmath.pi) / 3)\n",
    "\n",
    "# Output the roots\n",
    "print(f\"The roots of the cubic equation are:\")\n",
    "print(f\"Root 1: {root1}\")\n",
    "print(f\"Root 2: {root2}\")\n",
    "print(f\"Root 3: {root3}\")\n"
   ]
  },
  {
   "cell_type": "code",
   "execution_count": null,
   "id": "e2b5a549-27d1-4a19-a6cc-eb88c06d7d4e",
   "metadata": {},
   "outputs": [],
   "source": [
    "Advanced Level:"
   ]
  },
  {
   "cell_type": "code",
   "execution_count": null,
   "id": "6b9c557c-a778-4a9d-a25f-8395b24ebc01",
   "metadata": {},
   "outputs": [],
   "source": [
    "21. Create a program that calculates the income tax based on the user's income and tax brackets."
   ]
  },
  {
   "cell_type": "code",
   "execution_count": 24,
   "id": "445d2251-9fa4-446b-89c2-9854198b2c24",
   "metadata": {},
   "outputs": [
    {
     "name": "stdin",
     "output_type": "stream",
     "text": [
      "Enter your income: $ 25000\n"
     ]
    },
    {
     "name": "stdout",
     "output_type": "stream",
     "text": [
      "The income tax for an income of $25000.00 is: $1500.00\n"
     ]
    }
   ],
   "source": [
    "# Input the user's income\n",
    "income = float(input(\"Enter your income: $\"))\n",
    "\n",
    "# Initialize the tax\n",
    "tax = 0\n",
    "\n",
    "# Calculate tax based on brackets\n",
    "if income <= 10000:\n",
    "    tax = income * 0.00\n",
    "elif income <= 30000:\n",
    "    tax = (income - 10000) * 0.10\n",
    "    tax += 10000 * 0.00\n",
    "elif income <= 70000:\n",
    "    tax = (income - 30000) * 0.20\n",
    "    tax += (30000 - 10000) * 0.10\n",
    "    tax += 10000 * 0.00\n",
    "else:\n",
    "    tax = (income - 70000) * 0.30\n",
    "    tax += (70000 - 30000) * 0.20\n",
    "    tax += (30000 - 10000) * 0.10\n",
    "    tax += 10000 * 0.00\n",
    "\n",
    "# Output the tax\n",
    "print(f\"The income tax for an income of ${income:.2f} is: ${tax:.2f}\")\n"
   ]
  },
  {
   "cell_type": "code",
   "execution_count": null,
   "id": "cd16c265-45ef-4b3b-aa92-d2a93a05365c",
   "metadata": {},
   "outputs": [],
   "source": [
    "22. Write a program that simulates a rock-paper-scissors game against the computer."
   ]
  },
  {
   "cell_type": "code",
   "execution_count": 25,
   "id": "5eb51076-4afd-4333-af33-125dc5f1d84c",
   "metadata": {},
   "outputs": [
    {
     "name": "stdout",
     "output_type": "stream",
     "text": [
      "Rock, Paper, Scissors Game!\n",
      "Type 'rock', 'paper', or 'scissors' to make your choice.\n"
     ]
    },
    {
     "name": "stdin",
     "output_type": "stream",
     "text": [
      "Enter your choice:  rock\n"
     ]
    },
    {
     "name": "stdout",
     "output_type": "stream",
     "text": [
      "Computer chose: paper\n",
      "You lose!\n"
     ]
    }
   ],
   "source": [
    "import random\n",
    "\n",
    "# Function to get the computer's choice\n",
    "def get_computer_choice():\n",
    "    choices = ['rock', 'paper', 'scissors']\n",
    "    return random.choice(choices)\n",
    "\n",
    "# Function to determine the winner\n",
    "def determine_winner(user_choice, computer_choice):\n",
    "    if user_choice == computer_choice:\n",
    "        return \"It's a tie!\"\n",
    "    elif (user_choice == 'rock' and computer_choice == 'scissors') or \\\n",
    "         (user_choice == 'paper' and computer_choice == 'rock') or \\\n",
    "         (user_choice == 'scissors' and computer_choice == 'paper'):\n",
    "        return \"You win!\"\n",
    "    else:\n",
    "        return \"You lose!\"\n",
    "\n",
    "# Main game logic\n",
    "print(\"Rock, Paper, Scissors Game!\")\n",
    "print(\"Type 'rock', 'paper', or 'scissors' to make your choice.\")\n",
    "\n",
    "# Get user's choice\n",
    "user_choice = input(\"Enter your choice: \").lower()\n",
    "\n",
    "# Validate user choice\n",
    "if user_choice not in ['rock', 'paper', 'scissors']:\n",
    "    print(\"Invalid choice. Please enter 'rock', 'paper', or 'scissors'.\")\n",
    "else:\n",
    "    # Get computer's choice\n",
    "    computer_choice = get_computer_choice()\n",
    "    print(f\"Computer chose: {computer_choice}\")\n",
    "\n",
    "    # Determine and print the result\n",
    "    result = determine_winner(user_choice, computer_choice)\n",
    "    print(result)\n"
   ]
  },
  {
   "cell_type": "code",
   "execution_count": null,
   "id": "abc7eee8-348e-4ae9-8215-24d182a8bd3f",
   "metadata": {},
   "outputs": [],
   "source": [
    "23. Develop a program that generates a random password based on user preferences (length, complexity)."
   ]
  },
  {
   "cell_type": "code",
   "execution_count": 26,
   "id": "4bf407bb-b433-4839-baaa-ec0c210280a2",
   "metadata": {},
   "outputs": [
    {
     "name": "stdin",
     "output_type": "stream",
     "text": [
      "Enter the desired length of the password:  5\n",
      "Include uppercase letters? (yes/no):  no\n",
      "Include digits? (yes/no):  no\n",
      "Include special characters? (yes/no):  yes\n"
     ]
    },
    {
     "name": "stdout",
     "output_type": "stream",
     "text": [
      "Generated password: dh'v`\n"
     ]
    }
   ],
   "source": [
    "import random\n",
    "import string\n",
    "\n",
    "# Function to generate a random password\n",
    "def generate_password(length, use_uppercase, use_digits, use_special):\n",
    "    # Define character sets\n",
    "    characters = string.ascii_lowercase\n",
    "    if use_uppercase:\n",
    "        characters += string.ascii_uppercase\n",
    "    if use_digits:\n",
    "        characters += string.digits\n",
    "    if use_special:\n",
    "        characters += string.punctuation\n",
    "\n",
    "    # Generate the password\n",
    "    password = ''.join(random.choice(characters) for _ in range(length))\n",
    "    return password\n",
    "\n",
    "# Input user preferences\n",
    "length = int(input(\"Enter the desired length of the password: \"))\n",
    "use_uppercase = input(\"Include uppercase letters? (yes/no): \").lower() == 'yes'\n",
    "use_digits = input(\"Include digits? (yes/no): \").lower() == 'yes'\n",
    "use_special = input(\"Include special characters? (yes/no): \").lower() == 'yes'\n",
    "\n",
    "# Generate and display the password\n",
    "password = generate_password(length, use_uppercase, use_digits, use_special)\n",
    "print(f\"Generated password: {password}\")\n"
   ]
  },
  {
   "cell_type": "code",
   "execution_count": null,
   "id": "5cbcdb76-ee06-497e-913f-eb98570255d7",
   "metadata": {},
   "outputs": [],
   "source": [
    "24. Create a program that implements a simple text-based adventure game with branching scenarios."
   ]
  },
  {
   "cell_type": "code",
   "execution_count": 27,
   "id": "101f62d0-c16a-4d96-97d6-6e7ed1cb39ef",
   "metadata": {},
   "outputs": [
    {
     "name": "stdout",
     "output_type": "stream",
     "text": [
      "You find yourself in a dark forest. There are two paths ahead of you.\n",
      "1. Take the left path.\n",
      "2. Take the right path.\n"
     ]
    },
    {
     "name": "stdin",
     "output_type": "stream",
     "text": [
      "What do you want to do? (1/2):  1\n"
     ]
    },
    {
     "name": "stdout",
     "output_type": "stream",
     "text": [
      "You take the left path and find a small cottage. There is a friendly old woman inside.\n",
      "1. Enter the cottage.\n",
      "2. Continue walking.\n"
     ]
    },
    {
     "name": "stdin",
     "output_type": "stream",
     "text": [
      "What do you want to do? (1/2):  2\n"
     ]
    },
    {
     "name": "stdout",
     "output_type": "stream",
     "text": [
      "You continue walking and eventually find your way out of the forest. Congratulations, you are safe!\n"
     ]
    }
   ],
   "source": [
    "def start_adventure():\n",
    "    print(\"You find yourself in a dark forest. There are two paths ahead of you.\")\n",
    "    print(\"1. Take the left path.\")\n",
    "    print(\"2. Take the right path.\")\n",
    "\n",
    "    choice = input(\"What do you want to do? (1/2): \")\n",
    "\n",
    "    if choice == '1':\n",
    "        left_path()\n",
    "    elif choice == '2':\n",
    "        right_path()\n",
    "    else:\n",
    "        print(\"Invalid choice. Please select 1 or 2.\")\n",
    "        start_adventure()\n",
    "\n",
    "def left_path():\n",
    "    print(\"You take the left path and find a small cottage. There is a friendly old woman inside.\")\n",
    "    print(\"1. Enter the cottage.\")\n",
    "    print(\"2. Continue walking.\")\n",
    "\n",
    "    choice = input(\"What do you want to do? (1/2): \")\n",
    "\n",
    "    if choice == '1':\n",
    "        cottage()\n",
    "    elif choice == '2':\n",
    "        print(\"You continue walking and eventually find your way out of the forest. Congratulations, you are safe!\")\n",
    "    else:\n",
    "        print(\"Invalid choice. Please select 1 or 2.\")\n",
    "        left_path()\n",
    "\n",
    "def right_path():\n",
    "    print(\"You take the right path and encounter a fierce dragon guarding a treasure chest.\")\n",
    "    print(\"1. Fight the dragon.\")\n",
    "    print(\"2. Try to sneak past the dragon.\")\n",
    "\n",
    "    choice = input(\"What do you want to do? (1/2): \")\n",
    "\n",
    "    if choice == '1':\n",
    "        print(\"You bravely fight the dragon but are overwhelmed. The dragon wins. Game over.\")\n",
    "    elif choice == '2':\n",
    "        print(\"You sneak past the dragon and successfully open the treasure chest. You find a golden crown. You win!\")\n",
    "    else:\n",
    "        print(\"Invalid choice. Please select 1 or 2.\")\n",
    "        right_path()\n",
    "\n",
    "def cottage():\n",
    "    print(\"The old woman offers you some magical potions.\")\n",
    "    print(\"1. Drink a potion.\")\n",
    "    print(\"2. Decline and leave the cottage.\")\n",
    "\n",
    "    choice = input(\"What do you want to do? (1/2): \")\n",
    "\n",
    "    if choice == '1':\n",
    "        print(\"You drink a potion and feel a surge of power. You are now able to conquer any challenges ahead. Congratulations!\")\n",
    "    elif choice == '2':\n",
    "        print(\"You decline the potions and leave the cottage. You eventually find your way out of the forest. Safe travels!\")\n",
    "    else:\n",
    "        print(\"Invalid choice. Please select 1 or 2.\")\n",
    "        cottage()\n",
    "\n",
    "# Start the adventure game\n",
    "start_adventure()\n"
   ]
  },
  {
   "cell_type": "code",
   "execution_count": null,
   "id": "951b8c49-a566-4a62-b999-307e82379ed5",
   "metadata": {},
   "outputs": [],
   "source": [
    "25. Build a program that solves a linear equation for x, considering different cases."
   ]
  },
  {
   "cell_type": "code",
   "execution_count": 28,
   "id": "896de791-13ae-4525-b044-9c202861b152",
   "metadata": {},
   "outputs": [
    {
     "name": "stdin",
     "output_type": "stream",
     "text": [
      "Enter the coefficient a:  5\n",
      "Enter the coefficient b:  5\n"
     ]
    },
    {
     "name": "stdout",
     "output_type": "stream",
     "text": [
      "The solution to the equation 5.0x + 5.0 = 0 is x = -1.00\n"
     ]
    }
   ],
   "source": [
    "# Input the coefficients a and b\n",
    "a = float(input(\"Enter the coefficient a: \"))\n",
    "b = float(input(\"Enter the coefficient b: \"))\n",
    "\n",
    "# Solve the linear equation ax + b = 0\n",
    "if a == 0:\n",
    "    if b == 0:\n",
    "        print(\"The equation has infinitely many solutions.\")\n",
    "    else:\n",
    "        print(\"The equation has no solution.\")\n",
    "else:\n",
    "    # Compute the solution for x\n",
    "    x = -b / a\n",
    "    print(f\"The solution to the equation {a}x + {b} = 0 is x = {x:.2f}\")\n"
   ]
  },
  {
   "cell_type": "code",
   "execution_count": null,
   "id": "b8f66611-0b8e-4d9e-b653-52ee960bb7b1",
   "metadata": {},
   "outputs": [],
   "source": [
    "26. Write a program that simulates a basic quiz game with multiple-choice questions and scoring."
   ]
  },
  {
   "cell_type": "code",
   "execution_count": 29,
   "id": "112e858c-e1fe-49d6-b46c-2f0bbb976813",
   "metadata": {},
   "outputs": [
    {
     "name": "stdout",
     "output_type": "stream",
     "text": [
      "What is the capital of France?\n",
      "a) Paris\n",
      "b) London\n",
      "c) Berlin\n",
      "d) Madrid\n"
     ]
    },
    {
     "name": "stdin",
     "output_type": "stream",
     "text": [
      "Enter your answer (a/b/c/d):  b\n"
     ]
    },
    {
     "name": "stdout",
     "output_type": "stream",
     "text": [
      "Incorrect.\n",
      "\n",
      "What is 2 + 2?\n",
      "a) 3\n",
      "b) 4\n",
      "c) 5\n",
      "d) 6\n"
     ]
    },
    {
     "name": "stdin",
     "output_type": "stream",
     "text": [
      "Enter your answer (a/b/c/d):  5\n"
     ]
    },
    {
     "name": "stdout",
     "output_type": "stream",
     "text": [
      "Incorrect.\n",
      "\n",
      "What is the largest planet in our solar system?\n",
      "a) Earth\n",
      "b) Mars\n",
      "c) Jupiter\n",
      "d) Saturn\n"
     ]
    },
    {
     "name": "stdin",
     "output_type": "stream",
     "text": [
      "Enter your answer (a/b/c/d):  b\n"
     ]
    },
    {
     "name": "stdout",
     "output_type": "stream",
     "text": [
      "Incorrect.\n",
      "\n",
      "Quiz complete! Your final score is 0/3\n"
     ]
    }
   ],
   "source": [
    "# Define the questions, options, and correct answers\n",
    "questions = [\n",
    "    {\n",
    "        \"question\": \"What is the capital of France?\",\n",
    "        \"options\": [\"a) Paris\", \"b) London\", \"c) Berlin\", \"d) Madrid\"],\n",
    "        \"answer\": \"a\"\n",
    "    },\n",
    "    {\n",
    "        \"question\": \"What is 2 + 2?\",\n",
    "        \"options\": [\"a) 3\", \"b) 4\", \"c) 5\", \"d) 6\"],\n",
    "        \"answer\": \"b\"\n",
    "    },\n",
    "    {\n",
    "        \"question\": \"What is the largest planet in our solar system?\",\n",
    "        \"options\": [\"a) Earth\", \"b) Mars\", \"c) Jupiter\", \"d) Saturn\"],\n",
    "        \"answer\": \"c\"\n",
    "    }\n",
    "]\n",
    "\n",
    "# Function to display the quiz and get user answers\n",
    "def run_quiz():\n",
    "    score = 0\n",
    "    total_questions = len(questions)\n",
    "\n",
    "    for question in questions:\n",
    "        print(question[\"question\"])\n",
    "        for option in question[\"options\"]:\n",
    "            print(option)\n",
    "\n",
    "        # Get user answer\n",
    "        user_answer = input(\"Enter your answer (a/b/c/d): \").lower()\n",
    "\n",
    "        # Check if the answer is correct\n",
    "        if user_answer == question[\"answer\"]:\n",
    "            print(\"Correct!\")\n",
    "            score += 1\n",
    "        else:\n",
    "            print(\"Incorrect.\")\n",
    "\n",
    "        print()  # Add a blank line for readability\n",
    "\n",
    "    # Display final score\n",
    "    print(f\"Quiz complete! Your final score is {score}/{total_questions}\")\n",
    "\n",
    "# Start the quiz game\n",
    "run_quiz()\n"
   ]
  },
  {
   "cell_type": "code",
   "execution_count": null,
   "id": "435716d5-b077-4fd9-a265-4bd78e1cd5a8",
   "metadata": {},
   "outputs": [],
   "source": [
    "27. Develop a program that determines whether a given year is a prime number or not."
   ]
  },
  {
   "cell_type": "code",
   "execution_count": 30,
   "id": "e2a1c4be-45fb-44f9-b6b9-6240716884c1",
   "metadata": {},
   "outputs": [
    {
     "name": "stdin",
     "output_type": "stream",
     "text": [
      "Enter a year:  2023\n"
     ]
    },
    {
     "name": "stdout",
     "output_type": "stream",
     "text": [
      "2023 is not a prime number.\n"
     ]
    }
   ],
   "source": [
    "# Input the year\n",
    "year = int(input(\"Enter a year: \"))\n",
    "\n",
    "# Function to check if a number is prime\n",
    "def is_prime(n):\n",
    "    if n <= 1:\n",
    "        return False\n",
    "    if n <= 3:\n",
    "        return True\n",
    "    if n % 2 == 0 or n % 3 == 0:\n",
    "        return False\n",
    "    i = 5\n",
    "    while i * i <= n:\n",
    "        if n % i == 0 or n % (i + 2) == 0:\n",
    "            return False\n",
    "        i += 6\n",
    "    return True\n",
    "\n",
    "# Check if the year is a prime number\n",
    "if is_prime(year):\n",
    "    print(f\"{year} is a prime number.\")\n",
    "else:\n",
    "    print(f\"{year} is not a prime number.\")\n"
   ]
  },
  {
   "cell_type": "code",
   "execution_count": null,
   "id": "c165ddeb-b386-4260-8206-601d972bfd90",
   "metadata": {},
   "outputs": [],
   "source": [
    "28. Create a program that sorts three numbers in ascending order using conditional statements."
   ]
  },
  {
   "cell_type": "code",
   "execution_count": 31,
   "id": "869f9553-abe4-4ac6-81d0-ebe10d45d75f",
   "metadata": {},
   "outputs": [
    {
     "name": "stdin",
     "output_type": "stream",
     "text": [
      "Enter the first number:  6\n",
      "Enter the second number:  5\n",
      "Enter the third number:  8\n"
     ]
    },
    {
     "name": "stdout",
     "output_type": "stream",
     "text": [
      "The numbers in ascending order are: 5.0, 6.0, 8.0\n"
     ]
    }
   ],
   "source": [
    "# Input three numbers\n",
    "num1 = float(input(\"Enter the first number: \"))\n",
    "num2 = float(input(\"Enter the second number: \"))\n",
    "num3 = float(input(\"Enter the third number: \"))\n",
    "\n",
    "# Initialize variables to store sorted numbers\n",
    "smallest = largest = middle = None\n",
    "\n",
    "# Find the smallest, middle, and largest numbers using conditional statements\n",
    "if num1 <= num2 and num1 <= num3:\n",
    "    smallest = num1\n",
    "    if num2 <= num3:\n",
    "        middle = num2\n",
    "        largest = num3\n",
    "    else:\n",
    "        middle = num3\n",
    "        largest = num2\n",
    "elif num2 <= num1 and num2 <= num3:\n",
    "    smallest = num2\n",
    "    if num1 <= num3:\n",
    "        middle = num1\n",
    "        largest = num3\n",
    "    else:\n",
    "        middle = num3\n",
    "        largest = num1\n",
    "else:\n",
    "    smallest = num3\n",
    "    if num1 <= num2:\n",
    "        middle = num1\n",
    "        largest = num2\n",
    "    else:\n",
    "        middle = num2\n",
    "        largest = num1\n",
    "\n",
    "# Output the sorted numbers\n",
    "print(f\"The numbers in ascending order are: {smallest}, {middle}, {largest}\")\n"
   ]
  },
  {
   "cell_type": "code",
   "execution_count": null,
   "id": "3ac1e28e-44c5-4fee-b349-b4adb4ff1e0b",
   "metadata": {},
   "outputs": [],
   "source": [
    "29. Build a program that determines the roots of a quartic equation using numerical methods."
   ]
  },
  {
   "cell_type": "code",
   "execution_count": 32,
   "id": "be6ede73-31ca-44ef-83eb-e6d0d678bd4e",
   "metadata": {},
   "outputs": [
    {
     "name": "stdin",
     "output_type": "stream",
     "text": [
      "Enter the coefficient a:  6\n",
      "Enter the coefficient b:  8\n",
      "Enter the coefficient c:  9\n",
      "Enter the coefficient d:  5\n",
      "Enter the coefficient e:  3\n"
     ]
    },
    {
     "name": "stdout",
     "output_type": "stream",
     "text": [
      "Approximate roots of the quartic equation are: []\n"
     ]
    }
   ],
   "source": [
    "import numpy as np\n",
    "\n",
    "# Define the quartic equation and its derivative\n",
    "def f(x, a, b, c, d, e):\n",
    "    return a * x**4 + b * x**3 + c * x**2 + d * x + e\n",
    "\n",
    "def f_prime(x, a, b, c, d):\n",
    "    return 4 * a * x**3 + 3 * b * x**2 + 2 * c * x + d\n",
    "\n",
    "# Newton-Raphson method\n",
    "def newton_raphson(a, b, c, d, e, initial_guess, tolerance=1e-6, max_iterations=1000):\n",
    "    x = initial_guess\n",
    "    for _ in range(max_iterations):\n",
    "        fx = f(x, a, b, c, d, e)\n",
    "        fpx = f_prime(x, a, b, c, d)\n",
    "        if fpx == 0:\n",
    "            raise ZeroDivisionError(\"Derivative is zero. No solution found.\")\n",
    "        x_new = x - fx / fpx\n",
    "        if abs(x_new - x) < tolerance:\n",
    "            return x_new\n",
    "        x = x_new\n",
    "    raise ValueError(\"Newton-Raphson method did not converge.\")\n",
    "\n",
    "# Input coefficients\n",
    "a = float(input(\"Enter the coefficient a: \"))\n",
    "b = float(input(\"Enter the coefficient b: \"))\n",
    "c = float(input(\"Enter the coefficient c: \"))\n",
    "d = float(input(\"Enter the coefficient d: \"))\n",
    "e = float(input(\"Enter the coefficient e: \"))\n",
    "\n",
    "# Find roots using different initial guesses\n",
    "roots = []\n",
    "initial_guesses = [-10, 0, 10]  # You may adjust these based on expected roots\n",
    "\n",
    "for guess in initial_guesses:\n",
    "    try:\n",
    "        root = newton_raphson(a, b, c, d, e, guess)\n",
    "        # Check if root is close to zero (within tolerance)\n",
    "        if all(abs(root - r) > 1e-5 for r in roots):\n",
    "            roots.append(root)\n",
    "    except (ZeroDivisionError, ValueError):\n",
    "        continue\n",
    "\n",
    "# Output the roots\n",
    "print(f\"Approximate roots of the quartic equation are: {np.round(roots, decimals=6)}\")\n"
   ]
  },
  {
   "cell_type": "code",
   "execution_count": null,
   "id": "de9a7cca-335a-49c1-854b-7ffd2816b0da",
   "metadata": {},
   "outputs": [],
   "source": [
    "30. Write a program that calculates the BMI (Body Mass Index) and provides health recommendations based\n",
    "on the user's input."
   ]
  },
  {
   "cell_type": "code",
   "execution_count": 33,
   "id": "bceced57-a953-4881-833d-98310c005cce",
   "metadata": {},
   "outputs": [
    {
     "name": "stdin",
     "output_type": "stream",
     "text": [
      "Enter your weight in kilograms:  90\n",
      "Enter your height in meters:  1.778\n"
     ]
    },
    {
     "name": "stdout",
     "output_type": "stream",
     "text": [
      "Your BMI is: 28.47\n",
      "Overweight: Consider losing weight to reach a healthier BMI.\n"
     ]
    }
   ],
   "source": [
    "# Function to calculate BMI\n",
    "def calculate_bmi(weight, height):\n",
    "    return weight / (height ** 2)\n",
    "\n",
    "# Function to provide health recommendations based on BMI\n",
    "def get_recommendation(bmi):\n",
    "    if bmi < 18.5:\n",
    "        return \"Underweight: Consider gaining weight to reach a healthy BMI.\"\n",
    "    elif 18.5 <= bmi < 24.9:\n",
    "        return \"Normal weight: Maintain your current weight and continue healthy habits.\"\n",
    "    elif 25 <= bmi < 29.9:\n",
    "        return \"Overweight: Consider losing weight to reach a healthier BMI.\"\n",
    "    else:\n",
    "        return \"Obesity: It's advisable to consult a healthcare provider for personalized advice.\"\n",
    "\n",
    "# Input weight and height from the user\n",
    "weight = float(input(\"Enter your weight in kilograms: \"))\n",
    "height = float(input(\"Enter your height in meters: \"))\n",
    "\n",
    "# Calculate BMI\n",
    "bmi = calculate_bmi(weight, height)\n",
    "\n",
    "# Provide health recommendation\n",
    "recommendation = get_recommendation(bmi)\n",
    "\n",
    "# Output the BMI and recommendation\n",
    "print(f\"Your BMI is: {bmi:.2f}\")\n",
    "print(recommendation)\n"
   ]
  },
  {
   "cell_type": "code",
   "execution_count": null,
   "id": "b2125f53-febb-46be-a8a9-c98d43fb456f",
   "metadata": {},
   "outputs": [],
   "source": []
  },
  {
   "cell_type": "code",
   "execution_count": null,
   "id": "346f2705-4313-4854-98c2-1250e7155bdb",
   "metadata": {},
   "outputs": [],
   "source": [
    "Challenge Level:"
   ]
  },
  {
   "cell_type": "code",
   "execution_count": null,
   "id": "a3a700de-b7d6-4869-bee5-30a4a31e554d",
   "metadata": {},
   "outputs": [],
   "source": []
  },
  {
   "cell_type": "code",
   "execution_count": null,
   "id": "b45a22a5-b172-4556-a339-e69145fc37bc",
   "metadata": {},
   "outputs": [],
   "source": [
    "31. Create a program that validates a password based on complexity rules (length, characters, etc.)."
   ]
  },
  {
   "cell_type": "code",
   "execution_count": 34,
   "id": "5bd60211-d168-43b0-bc13-b90b127faa64",
   "metadata": {},
   "outputs": [
    {
     "name": "stdin",
     "output_type": "stream",
     "text": [
      "Enter a password to validate:  xdjmggf2\n"
     ]
    },
    {
     "name": "stdout",
     "output_type": "stream",
     "text": [
      "Password must contain at least one uppercase letter.\n"
     ]
    }
   ],
   "source": [
    "import re\n",
    "\n",
    "def is_valid_password(password):\n",
    "    # Define password complexity rules\n",
    "    min_length = 8\n",
    "    max_length = 20\n",
    "    has_uppercase = re.search(r'[A-Z]', password) is not None\n",
    "    has_lowercase = re.search(r'[a-z]', password) is not None\n",
    "    has_digit = re.search(r'\\d', password) is not None\n",
    "    has_special = re.search(r'[!@#$%^&*(),.?\":{}|<>]', password) is not None\n",
    "\n",
    "    # Validate password length\n",
    "    if len(password) < min_length or len(password) > max_length:\n",
    "        return \"Password must be between 8 and 20 characters long.\"\n",
    "\n",
    "    # Validate password complexity\n",
    "    if not has_uppercase:\n",
    "        return \"Password must contain at least one uppercase letter.\"\n",
    "    if not has_lowercase:\n",
    "        return \"Password must contain at least one lowercase letter.\"\n",
    "    if not has_digit:\n",
    "        return \"Password must contain at least one digit.\"\n",
    "    if not has_special:\n",
    "        return \"Password must contain at least one special character.\"\n",
    "\n",
    "    return \"Password is valid.\"\n",
    "\n",
    "# Input password from the user\n",
    "password = input(\"Enter a password to validate: \")\n",
    "\n",
    "# Validate the password and provide feedback\n",
    "result = is_valid_password(password)\n",
    "print(result)\n"
   ]
  },
  {
   "cell_type": "code",
   "execution_count": null,
   "id": "f0d261e2-0372-4de8-940e-c366b03c048d",
   "metadata": {},
   "outputs": [],
   "source": [
    "32. Develop a program that performs matrix addition and subtraction based on user input."
   ]
  },
  {
   "cell_type": "code",
   "execution_count": 36,
   "id": "6b14d0dc-054a-4d26-a00f-702addacd49f",
   "metadata": {},
   "outputs": [
    {
     "name": "stdout",
     "output_type": "stream",
     "text": [
      "Matrix 1:\n"
     ]
    },
    {
     "name": "stdin",
     "output_type": "stream",
     "text": [
      "Enter the number of rows for Matrix 1:  2\n",
      "Enter the number of columns for Matrix 1:  2\n"
     ]
    },
    {
     "name": "stdout",
     "output_type": "stream",
     "text": [
      "Enter the elements for Matrix 1 (row by row):\n"
     ]
    },
    {
     "name": "stdin",
     "output_type": "stream",
     "text": [
      "Row 1:  2 2\n",
      "Row 2:  3 5\n"
     ]
    },
    {
     "name": "stdout",
     "output_type": "stream",
     "text": [
      "Matrix 2:\n"
     ]
    },
    {
     "name": "stdin",
     "output_type": "stream",
     "text": [
      "Enter the number of rows for Matrix 2:  2\n",
      "Enter the number of columns for Matrix 2:  2\n"
     ]
    },
    {
     "name": "stdout",
     "output_type": "stream",
     "text": [
      "Enter the elements for Matrix 2 (row by row):\n"
     ]
    },
    {
     "name": "stdin",
     "output_type": "stream",
     "text": [
      "Row 1:  2 2\n",
      "Row 2:  5 6\n"
     ]
    },
    {
     "name": "stdout",
     "output_type": "stream",
     "text": [
      "\n",
      "Matrix Addition Result:\n",
      "4.0 4.0\n",
      "8.0 11.0\n",
      "\n",
      "Matrix Subtraction Result:\n",
      "0.0 0.0\n",
      "-2.0 -1.0\n"
     ]
    }
   ],
   "source": [
    "def get_matrix_input(matrix_name):\n",
    "    \"\"\" Function to get matrix input from the user \"\"\"\n",
    "    rows = int(input(f\"Enter the number of rows for {matrix_name}: \"))\n",
    "    cols = int(input(f\"Enter the number of columns for {matrix_name}: \"))\n",
    "\n",
    "    matrix = []\n",
    "    print(f\"Enter the elements for {matrix_name} (row by row):\")\n",
    "    for i in range(rows):\n",
    "        row = list(map(float, input(f\"Row {i + 1}: \").split()))\n",
    "        if len(row) != cols:\n",
    "            raise ValueError(\"Number of columns in the row does not match the specified number.\")\n",
    "        matrix.append(row)\n",
    "    \n",
    "    return matrix\n",
    "\n",
    "def add_matrices(matrix1, matrix2):\n",
    "    \"\"\" Function to add two matrices \"\"\"\n",
    "    rows = len(matrix1)\n",
    "    cols = len(matrix1[0])\n",
    "    result = [[matrix1[i][j] + matrix2[i][j] for j in range(cols)] for i in range(rows)]\n",
    "    return result\n",
    "\n",
    "def subtract_matrices(matrix1, matrix2):\n",
    "    \"\"\" Function to subtract two matrices \"\"\"\n",
    "    rows = len(matrix1)\n",
    "    cols = len(matrix1[0])\n",
    "    result = [[matrix1[i][j] - matrix2[i][j] for j in range(cols)] for i in range(rows)]\n",
    "    return result\n",
    "\n",
    "def print_matrix(matrix):\n",
    "    \"\"\" Function to print a matrix \"\"\"\n",
    "    for row in matrix:\n",
    "        print(' '.join(map(str, row)))\n",
    "\n",
    "# Input matrices\n",
    "print(\"Matrix 1:\")\n",
    "matrix1 = get_matrix_input(\"Matrix 1\")\n",
    "print(\"Matrix 2:\")\n",
    "matrix2 = get_matrix_input(\"Matrix 2\")\n",
    "\n",
    "# Check if the matrices have the same dimensions\n",
    "if len(matrix1) != len(matrix2) or len(matrix1[0]) != len(matrix2[0]):\n",
    "    print(\"Matrices must have the same dimensions for addition and subtraction.\")\n",
    "else:\n",
    "    # Perform addition\n",
    "    addition_result = add_matrices(matrix1, matrix2)\n",
    "    print(\"\\nMatrix Addition Result:\")\n",
    "    print_matrix(addition_result)\n",
    "\n",
    "    # Perform subtraction\n",
    "    subtraction_result = subtract_matrices(matrix1, matrix2)\n",
    "    print(\"\\nMatrix Subtraction Result:\")\n",
    "    print_matrix(subtraction_result)\n"
   ]
  },
  {
   "cell_type": "code",
   "execution_count": null,
   "id": "00d7000d-31a9-424f-9006-e54ac6737b8c",
   "metadata": {},
   "outputs": [],
   "source": [
    "34. Build a program that performs matrix multiplication using nested loops and conditional statements."
   ]
  },
  {
   "cell_type": "code",
   "execution_count": 39,
   "id": "d4ceb1a6-d0b9-4159-bbe7-edf4ea577e3b",
   "metadata": {},
   "outputs": [
    {
     "name": "stdout",
     "output_type": "stream",
     "text": [
      "Matrix 1:\n"
     ]
    },
    {
     "name": "stdin",
     "output_type": "stream",
     "text": [
      "Enter the number of rows for Matrix 1:  2\n",
      "Enter the number of columns for Matrix 1:  2\n"
     ]
    },
    {
     "name": "stdout",
     "output_type": "stream",
     "text": [
      "Enter the elements for Matrix 1 (row by row):\n"
     ]
    },
    {
     "name": "stdin",
     "output_type": "stream",
     "text": [
      "Row 1:  2 1\n",
      "Row 2:  1 2\n"
     ]
    },
    {
     "name": "stdout",
     "output_type": "stream",
     "text": [
      "Matrix 2:\n"
     ]
    },
    {
     "name": "stdin",
     "output_type": "stream",
     "text": [
      "Enter the number of rows for Matrix 2:  2\n",
      "Enter the number of columns for Matrix 2:  2\n"
     ]
    },
    {
     "name": "stdout",
     "output_type": "stream",
     "text": [
      "Enter the elements for Matrix 2 (row by row):\n"
     ]
    },
    {
     "name": "stdin",
     "output_type": "stream",
     "text": [
      "Row 1:  3 2\n",
      "Row 2:  1 2\n"
     ]
    },
    {
     "name": "stdout",
     "output_type": "stream",
     "text": [
      "\n",
      "Matrix Multiplication Result:\n",
      "7.0 6.0\n",
      "5.0 6.0\n"
     ]
    }
   ],
   "source": [
    "def get_matrix_input(matrix_name):\n",
    "    \"\"\"Function to get matrix input from the user\"\"\"\n",
    "    rows = int(input(f\"Enter the number of rows for {matrix_name}: \"))\n",
    "    cols = int(input(f\"Enter the number of columns for {matrix_name}: \"))\n",
    "\n",
    "    matrix = []\n",
    "    print(f\"Enter the elements for {matrix_name} (row by row):\")\n",
    "    for i in range(rows):\n",
    "        row = list(map(float, input(f\"Row {i + 1}: \").split()))\n",
    "        if len(row) != cols:\n",
    "            raise ValueError(\"Number of columns in the row does not match the specified number.\")\n",
    "        matrix.append(row)\n",
    "    \n",
    "    return matrix\n",
    "\n",
    "def multiply_matrices(matrix1, matrix2):\n",
    "    \"\"\"Function to multiply two matrices\"\"\"\n",
    "    rows1 = len(matrix1)\n",
    "    cols1 = len(matrix1[0])\n",
    "    rows2 = len(matrix2)\n",
    "    cols2 = len(matrix2[0])\n",
    "\n",
    "    # Check if matrices can be multiplied\n",
    "    if cols1 != rows2:\n",
    "        raise ValueError(\"Number of columns in the first matrix must be equal to the number of rows in the second matrix.\")\n",
    "\n",
    "    # Initialize result matrix with zeros\n",
    "    result = [[0 for _ in range(cols2)] for _ in range(rows1)]\n",
    "\n",
    "    # Perform matrix multiplication\n",
    "    for i in range(rows1):\n",
    "        for j in range(cols2):\n",
    "            sum_product = 0\n",
    "            for k in range(cols1):  # or for k in range(rows2)\n",
    "                sum_product += matrix1[i][k] * matrix2[k][j]\n",
    "            result[i][j] = sum_product\n",
    "\n",
    "    return result\n",
    "\n",
    "def print_matrix(matrix):\n",
    "    \"\"\"Function to print a matrix\"\"\"\n",
    "    for row in matrix:\n",
    "        print(' '.join(map(str, row)))\n",
    "\n",
    "# Input matrices\n",
    "print(\"Matrix 1:\")\n",
    "matrix1 = get_matrix_input(\"Matrix 1\")\n",
    "print(\"Matrix 2:\")\n",
    "matrix2 = get_matrix_input(\"Matrix 2\")\n",
    "\n",
    "# Perform multiplication\n",
    "try:\n",
    "    multiplication_result = multiply_matrices(matrix1, matrix2)\n",
    "    print(\"\\nMatrix Multiplication Result:\")\n",
    "    print_matrix(multiplication_result)\n",
    "except ValueError as e:\n",
    "    print(e)\n"
   ]
  },
  {
   "cell_type": "code",
   "execution_count": null,
   "id": "a6cacf2e-12a1-4e96-8168-13aa0b60a6fd",
   "metadata": {},
   "outputs": [],
   "source": [
    "35. Create a program that simulates a basic text-based tic-tac-toe game against the computer."
   ]
  },
  {
   "cell_type": "code",
   "execution_count": null,
   "id": "44d8a14b-fbb0-466b-a471-205b043114db",
   "metadata": {},
   "outputs": [],
   "source": [
    "import random\n",
    "\n",
    "def print_board(board):\n",
    "    \"\"\"Print the Tic-Tac-Toe board.\"\"\"\n",
    "    for row in board:\n",
    "        print(\" | \".join(row))\n",
    "        print(\"-\" * 5)\n",
    "\n",
    "def check_winner(board, player):\n",
    "    \"\"\"Check if the given player has won.\"\"\"\n",
    "    win_conditions = [\n",
    "        # Rows\n",
    "        [board[0][0], board[0][1], board[0][2]],\n",
    "        [board[1][0], board[1][1], board[1][2]],\n",
    "        [board[2][0], board[2][1], board[2][2]],\n",
    "        # Columns\n",
    "        [board[0][0], board[1][0], board[2][0]],\n",
    "        [board[0][1], board[1][1], board[2][1]],\n",
    "        [board[0][2], board[1][2], board[2][2]],\n",
    "        # Diagonals\n",
    "        [board[0][0], board[1][1], board[2][2]],\n",
    "        [board[0][2], board[1][1], board[2][0]],\n",
    "    ]\n",
    "    return [player, player, player] in win_conditions\n",
    "\n",
    "def check_draw(board):\n",
    "    \"\"\"Check if the game is a draw.\"\"\"\n",
    "    return all(cell != ' ' for row in board for cell in row)\n",
    "\n",
    "def make_computer_move(board):\n",
    "    \"\"\"Make a random move for the computer.\"\"\"\n",
    "    empty_cells = [(r, c) for r in range(3) for c in range(3) if board[r][c] == ' ']\n",
    "    if empty_cells:\n",
    "        return random.choice(empty_cells)\n",
    "    return None\n",
    "\n",
    "def main():\n",
    "    # Initialize the board\n",
    "    board = [[' ' for _ in range(3)] for _ in range(3)]\n",
    "    print(\"Welcome to Tic-Tac-Toe!\")\n",
    "    print_board(board)\n",
    "\n",
    "    while True:\n",
    "        # Player move\n",
    "        try:\n",
    "            row = int(input(\"Enter the row (0, 1, or 2) for your move: \"))\n",
    "            col = int(input(\"Enter the column (0, 1, or 2) for your move: \"))\n",
    "            if board[row][col] != ' ':\n",
    "                print(\"Cell already occupied. Try again.\")\n",
    "                continue\n",
    "            board[row][col] = 'X'\n",
    "        except (ValueError, IndexError):\n",
    "            print(\"Invalid input. Please enter numbers between 0 and 2.\")\n",
    "            continue\n",
    "        \n",
    "        print_board(board)\n",
    "        if check_winner(board, 'X'):\n",
    "            print(\"Congratulations! You win!\")\n",
    "            break\n",
    "        if check_draw(board):\n",
    "            print(\"It's a draw!\")\n",
    "            break\n",
    "\n",
    "        # Computer move\n",
    "        move = make_computer_move(board)\n",
    "        if move:\n",
    "            row, col = move\n",
    "            board[row][col] = 'O'\n",
    "            print(f\"Computer places 'O' at ({row}, {col})\")\n",
    "        else:\n",
    "            print(\"No valid moves left.\")\n",
    "            break\n",
    "\n",
    "        print_board(board)\n",
    "        if check_winner(board, 'O'):\n",
    "            print(\"Computer wins! Better luck next time.\")\n",
    "            break\n",
    "        if check_draw(board):\n",
    "            print(\"It's a draw!\")\n",
    "            break\n",
    "\n",
    "if __name__ == \"__main__\":\n",
    "    main()\n"
   ]
  },
  {
   "cell_type": "code",
   "execution_count": null,
   "id": "45642a8c-85d8-48b5-8681-398053356245",
   "metadata": {},
   "outputs": [],
   "source": [
    "36. Write a program that generates Fibonacci numbers up to a specified term using iterative methods."
   ]
  },
  {
   "cell_type": "code",
   "execution_count": 40,
   "id": "1686f28c-06ec-40f2-9e0d-3a408b39f657",
   "metadata": {},
   "outputs": [
    {
     "name": "stdin",
     "output_type": "stream",
     "text": [
      "Enter the number of terms to generate in the Fibonacci sequence:  6\n"
     ]
    },
    {
     "name": "stdout",
     "output_type": "stream",
     "text": [
      "Fibonacci sequence:\n",
      "[0, 1, 1, 2, 3, 5]\n"
     ]
    }
   ],
   "source": [
    "def generate_fibonacci(n):\n",
    "    \"\"\"Generate Fibonacci numbers up to the nth term using an iterative approach.\"\"\"\n",
    "    fibonacci_sequence = []\n",
    "    a, b = 0, 1\n",
    "    \n",
    "    while len(fibonacci_sequence) < n:\n",
    "        fibonacci_sequence.append(a)\n",
    "        a, b = b, a + b\n",
    "    \n",
    "    return fibonacci_sequence\n",
    "\n",
    "# Input the number of terms from the user\n",
    "try:\n",
    "    num_terms = int(input(\"Enter the number of terms to generate in the Fibonacci sequence: \"))\n",
    "    if num_terms <= 0:\n",
    "        raise ValueError(\"The number of terms must be a positive integer.\")\n",
    "except ValueError as e:\n",
    "    print(f\"Invalid input: {e}\")\n",
    "else:\n",
    "    # Generate and print Fibonacci sequence\n",
    "    fibonacci_sequence = generate_fibonacci(num_terms)\n",
    "    print(\"Fibonacci sequence:\")\n",
    "    print(fibonacci_sequence)\n"
   ]
  },
  {
   "cell_type": "code",
   "execution_count": null,
   "id": "03dc1401-626e-4fa4-8818-073c426adb45",
   "metadata": {},
   "outputs": [],
   "source": [
    "37. Develop a program that calculates the nth term of the Fibonacci sequence using memoization."
   ]
  },
  {
   "cell_type": "code",
   "execution_count": 41,
   "id": "0b0551f7-4663-4c47-95b7-e8bb7e88e59f",
   "metadata": {},
   "outputs": [
    {
     "name": "stdin",
     "output_type": "stream",
     "text": [
      "Enter the term number to find in the Fibonacci sequence:  5\n"
     ]
    },
    {
     "name": "stdout",
     "output_type": "stream",
     "text": [
      "The 5th term of the Fibonacci sequence is: 5\n"
     ]
    }
   ],
   "source": [
    "def fibonacci(n, memo={}):\n",
    "    \"\"\"Calculate the nth term of the Fibonacci sequence using memoization.\"\"\"\n",
    "    if n in memo:\n",
    "        return memo[n]\n",
    "    if n <= 0:\n",
    "        return 0\n",
    "    elif n == 1:\n",
    "        return 1\n",
    "    else:\n",
    "        memo[n] = fibonacci(n - 1, memo) + fibonacci(n - 2, memo)\n",
    "        return memo[n]\n",
    "\n",
    "# Input the term number from the user\n",
    "try:\n",
    "    n = int(input(\"Enter the term number to find in the Fibonacci sequence: \"))\n",
    "    if n < 0:\n",
    "        raise ValueError(\"The term number must be a non-negative integer.\")\n",
    "except ValueError as e:\n",
    "    print(f\"Invalid input: {e}\")\n",
    "else:\n",
    "    # Calculate and print the nth Fibonacci term\n",
    "    fib_term = fibonacci(n)\n",
    "    print(f\"The {n}th term of the Fibonacci sequence is: {fib_term}\")\n"
   ]
  },
  {
   "cell_type": "code",
   "execution_count": null,
   "id": "b008ff5d-460d-4061-8a90-1b62de2021b0",
   "metadata": {},
   "outputs": [],
   "source": [
    "38. Create a program that generates a calendar for a given month and year using conditional statements."
   ]
  },
  {
   "cell_type": "code",
   "execution_count": 42,
   "id": "b6f3e17f-b0d6-4620-bc39-d66164735f67",
   "metadata": {},
   "outputs": [
    {
     "name": "stdin",
     "output_type": "stream",
     "text": [
      "Enter the month (1-12):  8\n",
      "Enter the year:  2024\n"
     ]
    },
    {
     "name": "stdout",
     "output_type": "stream",
     "text": [
      "Calendar for August 2024\n",
      "\n",
      "Mon Tue Wed Thu Fri Sat Sun\n",
      "             1   2   3   4  \n",
      " 5   6   7   8   9  10  11  \n",
      "12  13  14  15  16  17  18  \n",
      "19  20  21  22  23  24  25  \n",
      "26  27  28  29  30  31  \n"
     ]
    }
   ],
   "source": [
    "import calendar\n",
    "\n",
    "def print_calendar(month, year):\n",
    "    \"\"\"Generate and print the calendar for a given month and year.\"\"\"\n",
    "    # Define days of the week\n",
    "    days = [\"Mon\", \"Tue\", \"Wed\", \"Thu\", \"Fri\", \"Sat\", \"Sun\"]\n",
    "    \n",
    "    # Get the first weekday of the month and number of days in the month\n",
    "    first_weekday, num_days = calendar.monthrange(year, month)\n",
    "    \n",
    "    # Print the month and year\n",
    "    print(f\"Calendar for {calendar.month_name[month]} {year}\\n\")\n",
    "    # Print the days of the week\n",
    "    print(\" \".join(days))\n",
    "    \n",
    "    # Print leading spaces for the first week\n",
    "    for _ in range(first_weekday):\n",
    "        print(\"    \", end=\"\")\n",
    "\n",
    "    # Print the days of the month\n",
    "    day = 1\n",
    "    while day <= num_days:\n",
    "        print(f\"{day:2}  \", end=\"\")\n",
    "        first_weekday += 1\n",
    "        if first_weekday % 7 == 0:\n",
    "            print()\n",
    "        day += 1\n",
    "    \n",
    "    # Print a new line at the end if needed\n",
    "    if first_weekday % 7 != 0:\n",
    "        print()\n",
    "\n",
    "# Input month and year from the user\n",
    "try:\n",
    "    month = int(input(\"Enter the month (1-12): \"))\n",
    "    year = int(input(\"Enter the year: \"))\n",
    "    \n",
    "    if month < 1 or month > 12:\n",
    "        raise ValueError(\"Month must be between 1 and 12.\")\n",
    "    if year < 1:\n",
    "        raise ValueError(\"Year must be a positive integer.\")\n",
    "except ValueError as e:\n",
    "    print(f\"Invalid input: {e}\")\n",
    "else:\n",
    "    # Generate and print the calendar\n",
    "    print_calendar(month, year)\n"
   ]
  },
  {
   "cell_type": "code",
   "execution_count": null,
   "id": "923730ce-824f-46cc-9d0c-2bbc9d24ffd7",
   "metadata": {},
   "outputs": [],
   "source": [
    "39. Build a program that simulates a basic text-based blackjack game against the computer."
   ]
  },
  {
   "cell_type": "code",
   "execution_count": 45,
   "id": "5907fcfc-697d-4021-9ad0-3cca1e4bb57d",
   "metadata": {},
   "outputs": [
    {
     "name": "stdout",
     "output_type": "stream",
     "text": [
      "Welcome to Blackjack!\n",
      "Player's hand: [9, 8], Total: 17\n",
      "Computer's hand: [10], Total: 10\n"
     ]
    },
    {
     "name": "stdin",
     "output_type": "stream",
     "text": [
      "Type 'hit' to get another card, 'stand' to hold your hand:  hit\n"
     ]
    },
    {
     "name": "stdout",
     "output_type": "stream",
     "text": [
      "Player's hand: [9, 8, 9], Total: 26\n",
      "You bust! Computer wins.\n"
     ]
    }
   ],
   "source": [
    "import random\n",
    "\n",
    "def deal_card():\n",
    "    \"\"\"Deal a card randomly from the deck.\"\"\"\n",
    "    cards = [2, 3, 4, 5, 6, 7, 8, 9, 10, 10, 10, 10, 11]  # 10 represents 10, J, Q, K; 11 represents Ace\n",
    "    return random.choice(cards)\n",
    "\n",
    "def calculate_hand(hand):\n",
    "    \"\"\"Calculate the total value of a hand of cards.\"\"\"\n",
    "    total = sum(hand)\n",
    "    ace_count = hand.count(11)\n",
    "    \n",
    "    while total > 21 and ace_count:\n",
    "        total -= 10\n",
    "        ace_count -= 1\n",
    "    \n",
    "    return total\n",
    "\n",
    "def print_hand(hand, player):\n",
    "    \"\"\"Print the hand of cards.\"\"\"\n",
    "    print(f\"{player}'s hand: {hand}, Total: {calculate_hand(hand)}\")\n",
    "\n",
    "def main():\n",
    "    print(\"Welcome to Blackjack!\")\n",
    "    \n",
    "    player_hand = [deal_card(), deal_card()]\n",
    "    computer_hand = [deal_card(), deal_card()]\n",
    "\n",
    "    game_over = False\n",
    "\n",
    "    while not game_over:\n",
    "        print_hand(player_hand, \"Player\")\n",
    "        print_hand(computer_hand[:1], \"Computer\")\n",
    "\n",
    "        if calculate_hand(player_hand) == 21:\n",
    "            print(\"Blackjack! You win!\")\n",
    "            game_over = True\n",
    "            continue\n",
    "\n",
    "        action = input(\"Type 'hit' to get another card, 'stand' to hold your hand: \").lower()\n",
    "        \n",
    "        if action == 'hit':\n",
    "            player_hand.append(deal_card())\n",
    "            if calculate_hand(player_hand) > 21:\n",
    "                print_hand(player_hand, \"Player\")\n",
    "                print(\"You bust! Computer wins.\")\n",
    "                game_over = True\n",
    "        elif action == 'stand':\n",
    "            while calculate_hand(computer_hand) < 17:\n",
    "                computer_hand.append(deal_card())\n",
    "            \n",
    "            print_hand(player_hand, \"Player\")\n",
    "            print_hand(computer_hand, \"Computer\")\n",
    "\n",
    "            player_total = calculate_hand(player_hand)\n",
    "            computer_total = calculate_hand(computer_hand)\n",
    "\n",
    "            if computer_total > 21 or player_total > computer_total:\n",
    "                print(\"You win!\")\n",
    "            elif player_total < computer_total:\n",
    "                print(\"Computer wins.\")\n",
    "            else:\n",
    "                print(\"It's a draw.\")\n",
    "            game_over = True\n",
    "        else:\n",
    "            print(\"Invalid input. Please enter 'hit' or 'stand'.\")\n",
    "    \n",
    "if __name__ == \"__main__\":\n",
    "    main()\n"
   ]
  },
  {
   "cell_type": "code",
   "execution_count": null,
   "id": "daff823a-0e92-4492-a08e-a189a5a3c856",
   "metadata": {},
   "outputs": [],
   "source": [
    "40. Write a program that generates the prime factors of a given number using trial division."
   ]
  },
  {
   "cell_type": "code",
   "execution_count": 46,
   "id": "2357f987-ac38-4763-a375-eb21f2770148",
   "metadata": {},
   "outputs": [
    {
     "name": "stdin",
     "output_type": "stream",
     "text": [
      "Enter a number to find its prime factors:  56\n"
     ]
    },
    {
     "name": "stdout",
     "output_type": "stream",
     "text": [
      "Prime factors of 56: [2, 2, 2, 7]\n"
     ]
    }
   ],
   "source": [
    "def prime_factors(n):\n",
    "    \"\"\"Generate the prime factors of a given number using trial division.\"\"\"\n",
    "    factors = []\n",
    "    \n",
    "    # Handle the number of 2s that divide n\n",
    "    while n % 2 == 0:\n",
    "        factors.append(2)\n",
    "        n //= 2\n",
    "    \n",
    "    # n must be odd at this point, so we can skip even numbers\n",
    "    for i in range(3, int(n**0.5) + 1, 2):\n",
    "        # While i divides n, append i and divide n\n",
    "        while n % i == 0:\n",
    "            factors.append(i)\n",
    "            n //= i\n",
    "    \n",
    "    # This condition is to check if n is a prime number\n",
    "    # greater than 2\n",
    "    if n > 2:\n",
    "        factors.append(n)\n",
    "    \n",
    "    return factors\n",
    "\n",
    "# Input the number from the user\n",
    "try:\n",
    "    number = int(input(\"Enter a number to find its prime factors: \"))\n",
    "    if number <= 1:\n",
    "        raise ValueError(\"The number must be greater than 1.\")\n",
    "except ValueError as e:\n",
    "    print(f\"Invalid input: {e}\")\n",
    "else:\n",
    "    # Generate and print prime factors\n",
    "    factors = prime_factors(number)\n",
    "    print(f\"Prime factors of {number}: {factors}\")\n"
   ]
  },
  {
   "cell_type": "code",
   "execution_count": null,
   "id": "da11fc51-b9cc-477d-9770-a2a624a93072",
   "metadata": {},
   "outputs": [],
   "source": []
  }
 ],
 "metadata": {
  "kernelspec": {
   "display_name": "Python 3 (ipykernel)",
   "language": "python",
   "name": "python3"
  },
  "language_info": {
   "codemirror_mode": {
    "name": "ipython",
    "version": 3
   },
   "file_extension": ".py",
   "mimetype": "text/x-python",
   "name": "python",
   "nbconvert_exporter": "python",
   "pygments_lexer": "ipython3",
   "version": "3.10.8"
  }
 },
 "nbformat": 4,
 "nbformat_minor": 5
}
